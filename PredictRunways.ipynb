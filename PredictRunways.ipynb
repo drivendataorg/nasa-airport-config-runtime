{
  "cells": [
    {
      "cell_type": "markdown",
      "metadata": {
        "id": "view-in-github",
        "colab_type": "text"
      },
      "source": [
        "<a href=\"https://colab.research.google.com/github/CleverAndWitty/nasa-airport-config-runtime/blob/main/PredictRunways.ipynb\" target=\"_parent\"><img src=\"https://colab.research.google.com/assets/colab-badge.svg\" alt=\"Open In Colab\"/></a>"
      ]
    },
    {
      "cell_type": "markdown",
      "metadata": {
        "id": "mUVlvEbawl1X"
      },
      "source": [
        "Import google shared drive"
      ]
    },
    {
      "cell_type": "code",
      "execution_count": null,
      "metadata": {
        "id": "bNtiFoonwgJM",
        "colab": {
          "base_uri": "https://localhost:8080/"
        },
        "outputId": "706d0512-c356-44e7-f52a-a8bd97b97d5a"
      },
      "outputs": [
        {
          "output_type": "stream",
          "name": "stdout",
          "text": [
            "Mounted at /content/drive\n"
          ]
        }
      ],
      "source": [
        "from google.colab import drive\n",
        "drive.flush_and_unmount()\n",
        "drive.mount('/content/drive')"
      ]
    },
    {
      "cell_type": "markdown",
      "metadata": {
        "id": "vZeNkAvxyLUb"
      },
      "source": [
        "Install PySpark"
      ]
    },
    {
      "cell_type": "code",
      "execution_count": null,
      "metadata": {
        "id": "wmVMSbDzKQ1a",
        "colab": {
          "base_uri": "https://localhost:8080/"
        },
        "outputId": "f73dfea4-3ffc-48f2-f49f-5b44b5335df6"
      },
      "outputs": [
        {
          "output_type": "stream",
          "name": "stdout",
          "text": [
            "Requirement already satisfied: pyspark in /usr/local/lib/python3.7/dist-packages (3.2.1)\n",
            "Requirement already satisfied: py4j==0.10.9.3 in /usr/local/lib/python3.7/dist-packages (from pyspark) (0.10.9.3)\n",
            "Requirement already satisfied: xgboost in /usr/local/lib/python3.7/dist-packages (0.90)\n",
            "Requirement already satisfied: numpy in /usr/local/lib/python3.7/dist-packages (from xgboost) (1.21.6)\n",
            "Requirement already satisfied: scipy in /usr/local/lib/python3.7/dist-packages (from xgboost) (1.4.1)\n"
          ]
        }
      ],
      "source": [
        "!pip install pyspark\n",
        "!pip install xgboost"
      ]
    },
    {
      "cell_type": "code",
      "execution_count": null,
      "metadata": {
        "id": "zC8PoHBhJzcZ"
      },
      "outputs": [],
      "source": [
        "import pyspark\n",
        "from pyspark.ml.linalg import Vectors\n",
        "from pyspark.sql import SparkSession\n",
        "from pyspark.sql.types import *\n",
        "from pyspark.sql.functions import *\n",
        "from pyspark.conf import SparkConf\n",
        "from pyspark import SparkContext\n",
        "\n",
        "conf = SparkConf().setAppName('RunwayConfigPrediction_TeamTheRedFlags')\n",
        "sc = SparkContext.getOrCreate(conf = conf)\n",
        "ohe = pyspark.ml.feature.OneHotEncoder()\n",
        "spark = SparkSession.builder\\\n",
        "        .master(\"local\")\\\n",
        "        .appName(\"Colab\")\\\n",
        "        .config('spark.ui.port', '4050')\\\n",
        "        .getOrCreate()\n",
        "\n",
        "import plotnine\n",
        "import xgboost as xgp\n",
        "xgbParameters = {'tree_method': 'gpu_exact'}\n",
        "\n",
        "#################################\n",
        " ###### STEPS FOR XGBOOST ######\n",
        "  #############################\n",
        "\n",
        "#use DMATRIX before inputing matrix to xgb\n",
        "#create dictionary of parameters to pass in eg: \n",
        "### params = {\"objective\":\"binary:logistic\",\"max_depth\":4} \n",
        "#Make a cv test using xgb.cv eg:\n",
        "## xgb.cv(dtrain = DMATRIX, params = params, nfold = 4, num_boost_round=10, metrics=\"error\", as_pandas=True)\n",
        "\n",
        "\n",
        "\n",
        "import datetime\n",
        "\n"
      ]
    },
    {
      "cell_type": "markdown",
      "source": [
        "Create Data Frames"
      ],
      "metadata": {
        "id": "96tFiye0nQX-"
      }
    },
    {
      "cell_type": "code",
      "execution_count": 182,
      "metadata": {
        "id": "4OuOTzXnyO4C"
      },
      "outputs": [],
      "source": [
        "\n",
        "#from typing_extensions import ParamSpecArgs\n",
        "strFilePath = \"/content/drive/Shareddrives/CIS3200GroupProject/DecompressedByAirport/k\"\n",
        "\n",
        "filestrAirportConfig = \"_airport_config.csv\"\n",
        "filestrArrivalRunway = \"_arrival_runway.csv\"\n",
        "filestrDepartureRunway = \"_departure_runway.csv\"\n",
        "filestrEstTimeDeparture = \"_etd.csv\"\n",
        "filestrFirstPosition = \"_first_position.csv\"\n",
        "filestrLamp = \"_lamp.csv\"\n",
        "filestrMFSRunwayArrTime = \"_mfs_runway_arrival_time.csv\"\n",
        "filestrMFSRunwayDptTime = \"_mfs_runway_departure_time.csv\"\n",
        "filestrMFSStandArrTime = \"_mfs_stand_arrival_time.csv\"\n",
        "filestrMFSStandDeptTime = \"_mfs_stand_departure_time.csv\"\n",
        "filestrTBFMSchedRunwayArrTime = \"_tbfm_scheduled_runway_arrival_time.csv\"\n",
        "filestrTFMEstRunwayArrTime = \"_tfm_estimated_runway_arrival_time.csv\"\n",
        "\n",
        "arrayAirportString = [\n",
        "                      \"atl\"\n",
        "                      ,\"clt\"\n",
        "                      ,\"den\"\n",
        "                      ,\"dfw\"\n",
        "                      ,\"dfw\"\n",
        "                      ,\"jfk\"\n",
        "                      ,\"mem\"\n",
        "                      ,\"mia\"\n",
        "                      ,\"ord\"\n",
        "                      ,\"phx\"\n",
        "                      ,\"sea\"\n",
        "                      ]\n",
        "\n",
        "arrayFileString = [\n",
        "  filestrAirportConfig,\n",
        "  filestrArrivalRunway,\n",
        "  filestrDepartureRunway,\n",
        "  filestrEstTimeDeparture,\n",
        "  filestrFirstPosition,\n",
        "  filestrLamp,\n",
        "  filestrMFSRunwayArrTime,\n",
        "  filestrMFSRunwayDptTime,\n",
        "  filestrMFSStandArrTime,\n",
        "  filestrMFSStandDeptTime,\n",
        "  filestrTBFMSchedRunwayArrTime,\n",
        "  filestrTFMEstRunwayArrTime\n",
        "  ]\n",
        "DFDictionary = {}\n",
        "for AirportCode in arrayAirportString:\n",
        "  DFDictionary[AirportCode] = {}\n",
        "  for FileString in arrayFileString:\n",
        "    Filepath = str(strFilePath + AirportCode + \"/k\" + AirportCode + FileString)\n",
        "    #WorkingFile = spark.read.csv()\n",
        "    \n",
        "    dfParameters = {\n",
        "        'path': Filepath, \n",
        "        'header':True,\n",
        "        'enforceSchema':False\n",
        "        }\n",
        "\n",
        "    dfSchema = StructType()\n",
        "    isCreateDataFrame = 0\n",
        "\n",
        "    if FileString == filestrAirportConfig:\n",
        "      strFileShorthand = \"ArptConfig\"\n",
        "      dfSchema.add(\"timestamp\", TimestampType(), False)\n",
        "      dfSchema.add(\"airport_config\", StringType(), True)\n",
        "      isCreateDataFrame = 1\n",
        "    elif FileString == filestrArrivalRunway:\n",
        "      strFileShorthand = \"ArrRnwy\"\n",
        "      dfSchema.add(\"gufi\", StringType(), True)\n",
        "      dfSchema.add(\"timestamp\", TimestampType(), False)\n",
        "      dfSchema.add(\"arrival_runway\", StringType(), True)\n",
        "      isCreateDataFrame = 1\n",
        "    elif FileString == filestrDepartureRunway:\n",
        "      strFileShorthand = \"DeptRnwy\"\n",
        "      dfSchema.add(\"gufi\", StringType(), True)\n",
        "      dfSchema.add(\"timestamp\", TimestampType(), False)\n",
        "      dfSchema.add(\"departure_runway\", StringType(), True)\n",
        "      isCreateDataFrame = 1\n",
        "    elif FileString == filestrLamp:\n",
        "      strFileShorthand = \"Lamp\"\n",
        "      dfSchema.add(\"timestamp\", TimestampType(), False)\n",
        "      dfSchema.add(\"forecast_timestamp\", TimestampType(), True)\n",
        "      dfSchema.add(\"temperature\", DecimalType(3,0), True)\n",
        "      dfSchema.add(\"wind_direction\", DecimalType(3,0), True)\n",
        "      dfSchema.add(\"wind_speed\", DecimalType(3,0), True)\n",
        "      dfSchema.add(\"wind_gust\", DecimalType(3,0), True)\n",
        "      dfSchema.add(\"cloud_ceiling\", DecimalType(1,0), True)\n",
        "      dfSchema.add(\"visibility\", DecimalType(1,0), True)\n",
        "      dfSchema.add(\"cloud\", StringType(), True)\n",
        "      dfSchema.add(\"lightning_prob\", StringType(), True)\n",
        "      dfSchema.add(\"precip\", BooleanType(), True)\n",
        "      isCreateDataFrame = 1\n",
        "      \n",
        "    #\"\"\"THESE FILES ARE NOT NEEDED FOR TRAINING SET\n",
        "    elif FileString == filestrEstTimeDeparture:\n",
        "      strFileShorthand = \"ETD\"\n",
        "      dfSchema.add(\"gufi\", StringType(), True)\n",
        "      dfSchema.add(\"timestamp\", TimestampType(), True)\n",
        "      dfSchema.add(\"estimated_runway_departure_time\", TimestampType(), True)\n",
        "    elif FileString == filestrFirstPosition:\n",
        "      strFileShorthand = \"FrstPos\"\n",
        "      dfSchema.add(\"gufi\", StringType(), True)\n",
        "      dfSchema.add(\"timestamp\", TimestampType(), True)\n",
        "    elif FileString == filestrMFSRunwayArrTime:\n",
        "      strFileShorthand = \"MfsRnwyArrTime\"\n",
        "      dfSchema.add(\"gufi\", StringType(), True)\n",
        "      dfSchema.add(\"timestamp\", TimestampType(), True)\n",
        "    elif FileString == filestrMFSRunwayDptTime:\n",
        "      strFileShorthand = \"MfsRnwyDptTime\"\n",
        "      dfSchema.add(\"gufi\", StringType(), True)\n",
        "      dfSchema.add(\"timestamp\", TimestampType(), True)\n",
        "    elif FileString == filestrMFSStandArrTime:\n",
        "      strFileShorthand = \"MfsStndArrTime\"\n",
        "      dfSchema.add(\"gufi\", StringType(), True)\n",
        "      dfSchema.add(\"timestamp\", TimestampType(), True)\n",
        "    elif FileString == filestrMFSStandDeptTime:\n",
        "      strFileShorthand =  \"MfsStndDeptTime\"\n",
        "      dfSchema.add(\"gufi\", StringType(), True)\n",
        "      dfSchema.add(\"timestamp\", TimestampType(), True)\n",
        "    elif FileString ==filestrTBFMSchedRunwayArrTime:\n",
        "      strFileShorthand = \"TbfmSchdRnwyArrTime\"\n",
        "      dfSchema.add(\"gufi\", StringType(), True)\n",
        "      dfSchema.add(\"timestamp\", TimestampType(), True)\n",
        "      dfSchema.add(\"scheduled_runway_arrival_time\", TimestampType(), True)\n",
        "    elif FileString == filestrTFMEstRunwayArrTime:\n",
        "      strFileShorthand = \"TfmEstRnwyArrTime\"\n",
        "      dfSchema.add(\"gufi\", StringType(), True)\n",
        "      dfSchema.add(\"timestamp\", TimestampType(), True)\n",
        "      dfSchema.add(\"estimated_runway_arrival_time\", TimestampType(), True)\n",
        "    #END FILES NOT NEEDED FOR TRAINING SET\"\"\"\n",
        "\n",
        "    if isCreateDataFrame == 1:\n",
        "      df = spark.read.format(\"csv\").option(\"header\",True).schema(dfSchema).load(Filepath)\n",
        "      #df = spark.read.csv(**dfParameters) #Use this when you've added a new file and need to see the column names\n",
        "      DFDictionary[AirportCode][strFileShorthand] = df\n",
        "    \n",
        "    \n",
        "      \n",
        "    #print(Filepath)\n",
        "    #print(\"For Airport \" + AirportCode, \"\\n Completed Loading:\", strFileShorthand)"
      ]
    },
    {
      "cell_type": "markdown",
      "source": [
        "[OPTIONAL] Display and test dictionary of dataframes"
      ],
      "metadata": {
        "id": "LSds4BObzJMV"
      }
    },
    {
      "cell_type": "code",
      "source": [
        "for key1 in DFDictionary:\n",
        "  for key2 in DFDictionary[key1]:\n",
        "    newDF = DFDictionary[key1][key2]\n",
        "    dtype = newDF.dtypes\n",
        "    print(\"Airport:\" + str(key1) + \"\\nFileShortHand:\" + str(key2) + str(dtype))\n",
        "    newDF.show(truncate=False)\n"
      ],
      "metadata": {
        "id": "MpHwYYgT1J67"
      },
      "execution_count": null,
      "outputs": []
    },
    {
      "cell_type": "code",
      "source": [
        "pivotdfConfig     = DFDictionary['mia']['ArptConfig'].groupby(\"timestamp\").pivot(\"airport_config\").count()#,\"DepartureRunways\", \"ArrivalRunways\").count()\n",
        "pivotdfDeparture  = DFDictionary['mia']['ArptConfig'].groupby(\"timestamp\").pivot(\"DepartureRunways\").count()#,\"DepartureRunways\", \"ArrivalRunways\").count()\n",
        "pivotdfArrival    = DFDictionary['mia']['ArptConfig'].groupby(\"timestamp\").pivot(\"ArrivalRunways\").count()#,\"DepartureRunways\", \"ArrivalRunways\").count()\n",
        "\n",
        "\n",
        "pivotdfDeparture =  pivotdfDeparture.withColumnRenamed('timestamp','deptTimestamp')\n",
        "pivotdfArrival   =  pivotdfArrival.withColumnRenamed('timestamp','arrvTimestamp')   \n",
        "\n",
        "pivotdfConfig.createOrReplaceTempView(\"Config\")\n",
        "pivotdfDeparture.createOrReplaceTempView(\"Departure\")\n",
        "pivotdfArrival.createOrReplaceTempView(\"Arrival\")\n",
        "\n",
        "query = \"Select * FROM Config as a Join Departure as b on 'a.timestamp' = 'b.deptTimestamp' JOIN Arrival as c on 'a.timestamp' = 'c.arrvTimestamp'\"\n",
        "\n",
        "pivotdf = spark.sql(query)\n",
        "\n",
        "#Got this from https://stackoverflow.com/questions/51381038/filling-not-null-values-as-1-in-pyspark-dataframe\n",
        "#First define the sequence of the columns\n",
        "ConfigColumn  = pivotdfConfig.columns\n",
        "DeptColumn    = pivotdfDeparture.columns\n",
        "ArvlColumn    = pivotdfArrival.columns\n",
        "\n",
        "#Make selections with replacements for each value found that isn't the 1st col\n",
        "ConfigSelections  = [when(col(column).isNull(),lit(0)).otherwise(lit(1)).alias(column) for column in ConfigColumn[1:]]\n",
        "DeptSelections    = [when(col(column).isNull(),lit(0)).otherwise(lit(1)).alias(column) for column in ConfigColumn[:(len(ConfigColumn)-1)]]\n",
        "ArrvSelections    = [when(col(column).isNull(),lit(0)).otherwise(lit(1)).alias(column) for column in ConfigColumn[:(len(ConfigColumn)-1)]]\n",
        "\n",
        "pivotdf.show(truncate=False)\n",
        "pivotdfConfig.select(ConfigSelections).show(truncate=False)\n",
        "pivotdfDeparture.select(DeptSelections).show(truncate=False)\n",
        "pivotdfArrival.select(ArrvSelections).show(truncate=False)"
      ],
      "metadata": {
        "colab": {
          "base_uri": "https://localhost:8080/",
          "height": 1000
        },
        "id": "-URn4RcKNu44",
        "outputId": "8d2dfb76-3bf0-41a1-ef92-84716a3f7d66"
      },
      "execution_count": 207,
      "outputs": [
        {
          "output_type": "stream",
          "name": "stdout",
          "text": [
            "+---------+-----------------------+-------------------------+----------------------+--------------------+----------------------+-------------------+----------------------+-------------------+-------------------+----------------+---------------------+-----------------------+------------------+-------------------+-------------------+----------------+----------------------+-----------------+-------------------+----------------+-------------------+----------------+------------+---------------+-------------------+----------------+-------------+----------------------------+-------------------------+----------------------------+-------------------------------+----------------------------------+----------------------------+------------------------+---------------------------+---------------------------+-----------------------+------------------+----------------------+-------------------------+----------------------------+----------------------------+---------------------+------------------------+---------------------+----------------------------+-------------------------+---------------+-------------------+----------------------+----------------------+------------------+---------------------------+-----------------------+--------------------+----------------+--------------+---------------------+------------------------+-----------------+--------------------+--------------+-------------+-----------------------+-----------------+-----------------+-------------+----------------+---------------+------------+------------+----------------------+-------------------+-----------------+-------------------+--------------+----------------+-------------+--------------------+-----------------+-------------------+---------------+-----------------+------------+-------------------+-------------+----------+-------------------+----------------+----------------+-----------+-------------+----------+-------------+---+---+---+---+---+---+---+---+-------------+---+---+---+---+---+---+---+---+\n",
            "|timestamp|D_12_8L_8R_9_A_12_8L_8R|D_12_8L_8R_9_A_12_8L_8R_9|D_12_8L_8R_9_A_12_8L_9|D_12_8L_8R_9_A_12_8R|D_12_8L_8R_9_A_12_8R_9|D_12_8L_8R_9_A_12_9|D_12_8L_8R_9_A_8L_8R_9|D_12_8L_8R_9_A_8L_9|D_12_8L_8R_9_A_8R_9|D_12_8L_8R_9_A_9|D_12_8L_8R_A_12_8L_8R|D_12_8L_8R_A_12_8L_8R_9|D_12_8L_8R_A_12_8R|D_12_8L_9_A_12_8L_9|D_12_8L_9_A_12_8R_9|D_12_8L_9_A_12_9|D_12_8R_9_A_12_8L_8R_9|D_12_8R_9_A_12_8R|D_12_8R_9_A_12_8R_9|D_12_8R_9_A_12_9|D_12_8R_9_A_8L_8R_9|D_12_8R_9_A_8R_9|D_12_8R_A_12|D_12_8R_A_12_8R|D_12_9_A_12_8L_8R_9|D_12_9_A_12_8L_9|D_12_9_A_12_9|D_26L_26R_27_30_A_12_8L_8R_9|D_26L_26R_27_30_A_26L_26R|D_26L_26R_27_30_A_26L_26R_27|D_26L_26R_27_30_A_26L_26R_27_30|D_26L_26R_27_30_A_26L_26R_27_30_8L|D_26L_26R_27_30_A_26L_26R_30|D_26L_26R_27_30_A_26L_27|D_26L_26R_27_30_A_26L_27_30|D_26L_26R_27_30_A_26R_27_30|D_26L_26R_27_30_A_27_30|D_26L_26R_27_A_26L|D_26L_26R_27_A_26L_26R|D_26L_26R_27_A_26L_26R_27|D_26L_26R_27_A_26L_26R_27_30|D_26L_26R_27_A_26L_26R_27_8L|D_26L_26R_27_A_26L_27|D_26L_26R_27_A_26L_27_30|D_26L_26R_27_A_26R_27|D_26L_26R_30_A_26L_26R_27_30|D_26L_26R_30_A_26L_26R_30|D_26L_26R_A_26L|D_26L_26R_A_26L_26R|D_26L_26R_A_26L_26R_27|D_26L_26R_A_26L_26R_30|D_26L_26R_A_26L_27|D_26L_27_30_A_26L_26R_27_30|D_26L_27_30_A_26L_27_30|D_26L_27_30_A_26L_30|D_26L_27_30_A_30|D_26L_27_A_26L|D_26L_27_A_26L_26R_27|D_26L_27_A_26L_26R_27_30|D_26L_27_A_26L_27|D_26L_27_A_26L_27_30|D_26L_27_A_26R|D_26L_27_A_27|D_26R_27_30_A_26R_27_30|D_26R_27_A_26L_27|D_26R_27_A_26R_27|D_26R_27_A_27|D_27_30_A_26L_30|D_27_30_A_27_30|D_27_30_A_30|D_27_A_27_30|D_8L_8R_9_A_12_8L_8R_9|D_8L_8R_9_A_12_8R_9|D_8L_8R_9_A_8L_8R|D_8L_8R_9_A_8L_8R_9|D_8L_8R_9_A_8R|D_8L_8R_9_A_8R_9|D_8L_8R_9_A_9|D_8L_8R_A_12_8L_8R_9|D_8L_8R_A_12_8R_9|D_8L_8R_A_26R_8L_8R|D_8L_8R_A_8L_8R|D_8L_8R_A_8L_8R_9|D_8L_8R_A_8R|D_8L_9_A_12_8L_8R_9|D_8L_9_A_8L_9|D_8L_9_A_9|D_8R_9_A_12_8L_8R_9|D_8R_9_A_12_8R_9|D_8R_9_A_8L_8R_9|D_8R_9_A_8R|D_8R_9_A_8R_9|D_8R_9_A_9|deptTimestamp|12 |26L|26R|27 |30 |8L |8R |9  |arrvTimestamp|12 |26L|26R|27 |30 |8L |8R |9  |\n",
            "+---------+-----------------------+-------------------------+----------------------+--------------------+----------------------+-------------------+----------------------+-------------------+-------------------+----------------+---------------------+-----------------------+------------------+-------------------+-------------------+----------------+----------------------+-----------------+-------------------+----------------+-------------------+----------------+------------+---------------+-------------------+----------------+-------------+----------------------------+-------------------------+----------------------------+-------------------------------+----------------------------------+----------------------------+------------------------+---------------------------+---------------------------+-----------------------+------------------+----------------------+-------------------------+----------------------------+----------------------------+---------------------+------------------------+---------------------+----------------------------+-------------------------+---------------+-------------------+----------------------+----------------------+------------------+---------------------------+-----------------------+--------------------+----------------+--------------+---------------------+------------------------+-----------------+--------------------+--------------+-------------+-----------------------+-----------------+-----------------+-------------+----------------+---------------+------------+------------+----------------------+-------------------+-----------------+-------------------+--------------+----------------+-------------+--------------------+-----------------+-------------------+---------------+-----------------+------------+-------------------+-------------+----------+-------------------+----------------+----------------+-----------+-------------+----------+-------------+---+---+---+---+---+---+---+---+-------------+---+---+---+---+---+---+---+---+\n",
            "+---------+-----------------------+-------------------------+----------------------+--------------------+----------------------+-------------------+----------------------+-------------------+-------------------+----------------+---------------------+-----------------------+------------------+-------------------+-------------------+----------------+----------------------+-----------------+-------------------+----------------+-------------------+----------------+------------+---------------+-------------------+----------------+-------------+----------------------------+-------------------------+----------------------------+-------------------------------+----------------------------------+----------------------------+------------------------+---------------------------+---------------------------+-----------------------+------------------+----------------------+-------------------------+----------------------------+----------------------------+---------------------+------------------------+---------------------+----------------------------+-------------------------+---------------+-------------------+----------------------+----------------------+------------------+---------------------------+-----------------------+--------------------+----------------+--------------+---------------------+------------------------+-----------------+--------------------+--------------+-------------+-----------------------+-----------------+-----------------+-------------+----------------+---------------+------------+------------+----------------------+-------------------+-----------------+-------------------+--------------+----------------+-------------+--------------------+-----------------+-------------------+---------------+-----------------+------------+-------------------+-------------+----------+-------------------+----------------+----------------+-----------+-------------+----------+-------------+---+---+---+---+---+---+---+---+-------------+---+---+---+---+---+---+---+---+\n",
            "\n",
            "+-----------------------+-------------------------+----------------------+--------------------+----------------------+-------------------+----------------------+-------------------+-------------------+----------------+---------------------+-----------------------+------------------+-------------------+-------------------+----------------+----------------------+-----------------+-------------------+----------------+-------------------+----------------+------------+---------------+-------------------+----------------+-------------+----------------------------+-------------------------+----------------------------+-------------------------------+----------------------------------+----------------------------+------------------------+---------------------------+---------------------------+-----------------------+------------------+----------------------+-------------------------+----------------------------+----------------------------+---------------------+------------------------+---------------------+----------------------------+-------------------------+---------------+-------------------+----------------------+----------------------+------------------+---------------------------+-----------------------+--------------------+----------------+--------------+---------------------+------------------------+-----------------+--------------------+--------------+-------------+-----------------------+-----------------+-----------------+-------------+----------------+---------------+------------+------------+----------------------+-------------------+-----------------+-------------------+--------------+----------------+-------------+--------------------+-----------------+-------------------+---------------+-----------------+------------+-------------------+-------------+----------+-------------------+----------------+----------------+-----------+-------------+----------+\n",
            "|D_12_8L_8R_9_A_12_8L_8R|D_12_8L_8R_9_A_12_8L_8R_9|D_12_8L_8R_9_A_12_8L_9|D_12_8L_8R_9_A_12_8R|D_12_8L_8R_9_A_12_8R_9|D_12_8L_8R_9_A_12_9|D_12_8L_8R_9_A_8L_8R_9|D_12_8L_8R_9_A_8L_9|D_12_8L_8R_9_A_8R_9|D_12_8L_8R_9_A_9|D_12_8L_8R_A_12_8L_8R|D_12_8L_8R_A_12_8L_8R_9|D_12_8L_8R_A_12_8R|D_12_8L_9_A_12_8L_9|D_12_8L_9_A_12_8R_9|D_12_8L_9_A_12_9|D_12_8R_9_A_12_8L_8R_9|D_12_8R_9_A_12_8R|D_12_8R_9_A_12_8R_9|D_12_8R_9_A_12_9|D_12_8R_9_A_8L_8R_9|D_12_8R_9_A_8R_9|D_12_8R_A_12|D_12_8R_A_12_8R|D_12_9_A_12_8L_8R_9|D_12_9_A_12_8L_9|D_12_9_A_12_9|D_26L_26R_27_30_A_12_8L_8R_9|D_26L_26R_27_30_A_26L_26R|D_26L_26R_27_30_A_26L_26R_27|D_26L_26R_27_30_A_26L_26R_27_30|D_26L_26R_27_30_A_26L_26R_27_30_8L|D_26L_26R_27_30_A_26L_26R_30|D_26L_26R_27_30_A_26L_27|D_26L_26R_27_30_A_26L_27_30|D_26L_26R_27_30_A_26R_27_30|D_26L_26R_27_30_A_27_30|D_26L_26R_27_A_26L|D_26L_26R_27_A_26L_26R|D_26L_26R_27_A_26L_26R_27|D_26L_26R_27_A_26L_26R_27_30|D_26L_26R_27_A_26L_26R_27_8L|D_26L_26R_27_A_26L_27|D_26L_26R_27_A_26L_27_30|D_26L_26R_27_A_26R_27|D_26L_26R_30_A_26L_26R_27_30|D_26L_26R_30_A_26L_26R_30|D_26L_26R_A_26L|D_26L_26R_A_26L_26R|D_26L_26R_A_26L_26R_27|D_26L_26R_A_26L_26R_30|D_26L_26R_A_26L_27|D_26L_27_30_A_26L_26R_27_30|D_26L_27_30_A_26L_27_30|D_26L_27_30_A_26L_30|D_26L_27_30_A_30|D_26L_27_A_26L|D_26L_27_A_26L_26R_27|D_26L_27_A_26L_26R_27_30|D_26L_27_A_26L_27|D_26L_27_A_26L_27_30|D_26L_27_A_26R|D_26L_27_A_27|D_26R_27_30_A_26R_27_30|D_26R_27_A_26L_27|D_26R_27_A_26R_27|D_26R_27_A_27|D_27_30_A_26L_30|D_27_30_A_27_30|D_27_30_A_30|D_27_A_27_30|D_8L_8R_9_A_12_8L_8R_9|D_8L_8R_9_A_12_8R_9|D_8L_8R_9_A_8L_8R|D_8L_8R_9_A_8L_8R_9|D_8L_8R_9_A_8R|D_8L_8R_9_A_8R_9|D_8L_8R_9_A_9|D_8L_8R_A_12_8L_8R_9|D_8L_8R_A_12_8R_9|D_8L_8R_A_26R_8L_8R|D_8L_8R_A_8L_8R|D_8L_8R_A_8L_8R_9|D_8L_8R_A_8R|D_8L_9_A_12_8L_8R_9|D_8L_9_A_8L_9|D_8L_9_A_9|D_8R_9_A_12_8L_8R_9|D_8R_9_A_12_8R_9|D_8R_9_A_8L_8R_9|D_8R_9_A_8R|D_8R_9_A_8R_9|D_8R_9_A_9|\n",
            "+-----------------------+-------------------------+----------------------+--------------------+----------------------+-------------------+----------------------+-------------------+-------------------+----------------+---------------------+-----------------------+------------------+-------------------+-------------------+----------------+----------------------+-----------------+-------------------+----------------+-------------------+----------------+------------+---------------+-------------------+----------------+-------------+----------------------------+-------------------------+----------------------------+-------------------------------+----------------------------------+----------------------------+------------------------+---------------------------+---------------------------+-----------------------+------------------+----------------------+-------------------------+----------------------------+----------------------------+---------------------+------------------------+---------------------+----------------------------+-------------------------+---------------+-------------------+----------------------+----------------------+------------------+---------------------------+-----------------------+--------------------+----------------+--------------+---------------------+------------------------+-----------------+--------------------+--------------+-------------+-----------------------+-----------------+-----------------+-------------+----------------+---------------+------------+------------+----------------------+-------------------+-----------------+-------------------+--------------+----------------+-------------+--------------------+-----------------+-------------------+---------------+-----------------+------------+-------------------+-------------+----------+-------------------+----------------+----------------+-----------+-------------+----------+\n",
            "|0                      |1                        |0                     |0                   |0                     |0                  |0                     |0                  |0                  |0               |0                    |0                      |0                 |0                  |0                  |0               |0                     |0                |0                  |0               |0                  |0               |0           |0              |0                  |0               |0            |0                           |0                        |0                           |0                              |0                                 |0                           |0                       |0                          |0                          |0                      |0                 |0                     |0                        |0                           |0                           |0                    |0                       |0                    |0                           |0                        |0              |0                  |0                     |0                     |0                 |0                          |0                      |0                   |0               |0             |0                    |0                       |0                |0                   |0             |0            |0                      |0                |0                |0            |0               |0              |0           |0           |0                     |0                  |0                |0                  |0             |0               |0            |0                   |0                |0                  |0              |0                |0           |0                  |0            |0         |0                  |0               |0               |0          |0            |0         |\n",
            "|0                      |0                        |0                     |0                   |0                     |0                  |0                     |0                  |0                  |0               |0                    |0                      |0                 |0                  |0                  |0               |0                     |0                |0                  |0               |0                  |0               |0           |0              |0                  |0               |0            |0                           |0                        |0                           |0                              |0                                 |0                           |0                       |0                          |0                          |0                      |0                 |0                     |0                        |0                           |0                           |0                    |0                       |0                    |0                           |0                        |0              |0                  |0                     |0                     |0                 |0                          |0                      |0                   |0               |0             |0                    |0                       |0                |0                   |0             |0            |0                      |0                |0                |0            |0               |0              |0           |0           |0                     |0                  |0                |0                  |0             |0               |0            |0                   |0                |0                  |0              |0                |0           |0                  |0            |0         |0                  |0               |0               |0          |1            |0         |\n",
            "|0                      |0                        |0                     |0                   |0                     |0                  |0                     |0                  |0                  |0               |0                    |0                      |0                 |0                  |0                  |0               |0                     |0                |0                  |0               |0                  |0               |0           |0              |0                  |0               |0            |0                           |0                        |0                           |0                              |0                                 |0                           |0                       |0                          |0                          |0                      |0                 |0                     |0                        |0                           |0                           |0                    |0                       |0                    |0                           |0                        |0              |0                  |0                     |0                     |0                 |0                          |0                      |0                   |0               |0             |0                    |0                       |0                |0                   |0             |0            |0                      |0                |0                |0            |0               |0              |0           |0           |0                     |0                  |0                |1                  |0             |0               |0            |0                   |0                |0                  |0              |0                |0           |0                  |0            |0         |0                  |0               |0               |0          |0            |0         |\n",
            "|0                      |0                        |0                     |0                   |0                     |0                  |0                     |0                  |0                  |0               |0                    |0                      |0                 |0                  |0                  |0               |0                     |0                |0                  |0               |0                  |0               |0           |0              |0                  |0               |0            |0                           |0                        |0                           |0                              |0                                 |0                           |0                       |0                          |0                          |0                      |0                 |0                     |0                        |0                           |0                           |0                    |0                       |0                    |0                           |0                        |0              |0                  |0                     |0                     |0                 |0                          |0                      |0                   |0               |0             |0                    |0                       |1                |0                   |0             |0            |0                      |0                |0                |0            |0               |0              |0           |0           |0                     |0                  |0                |0                  |0             |0               |0            |0                   |0                |0                  |0              |0                |0           |0                  |0            |0         |0                  |0               |0               |0          |0            |0         |\n",
            "|0                      |0                        |0                     |0                   |0                     |0                  |0                     |0                  |0                  |0               |0                    |0                      |0                 |0                  |0                  |0               |0                     |0                |0                  |0               |0                  |0               |0           |0              |0                  |0               |1            |0                           |0                        |0                           |0                              |0                                 |0                           |0                       |0                          |0                          |0                      |0                 |0                     |0                        |0                           |0                           |0                    |0                       |0                    |0                           |0                        |0              |0                  |0                     |0                     |0                 |0                          |0                      |0                   |0               |0             |0                    |0                       |0                |0                   |0             |0            |0                      |0                |0                |0            |0               |0              |0           |0           |0                     |0                  |0                |0                  |0             |0               |0            |0                   |0                |0                  |0              |0                |0           |0                  |0            |0         |0                  |0               |0               |0          |0            |0         |\n",
            "|0                      |0                        |0                     |0                   |1                     |0                  |0                     |0                  |0                  |0               |0                    |0                      |0                 |0                  |0                  |0               |0                     |0                |0                  |0               |0                  |0               |0           |0              |0                  |0               |0            |0                           |0                        |0                           |0                              |0                                 |0                           |0                       |0                          |0                          |0                      |0                 |0                     |0                        |0                           |0                           |0                    |0                       |0                    |0                           |0                        |0              |0                  |0                     |0                     |0                 |0                          |0                      |0                   |0               |0             |0                    |0                       |0                |0                   |0             |0            |0                      |0                |0                |0            |0               |0              |0           |0           |0                     |0                  |0                |0                  |0             |0               |0            |0                   |0                |0                  |0              |0                |0           |0                  |0            |0         |0                  |0               |0               |0          |0            |0         |\n",
            "|0                      |0                        |0                     |0                   |0                     |0                  |0                     |0                  |0                  |0               |0                    |0                      |0                 |0                  |0                  |0               |0                     |0                |0                  |0               |0                  |0               |0           |0              |0                  |0               |0            |0                           |0                        |0                           |1                              |0                                 |0                           |0                       |0                          |0                          |0                      |0                 |0                     |0                        |0                           |0                           |0                    |0                       |0                    |0                           |0                        |0              |0                  |0                     |0                     |0                 |0                          |0                      |0                   |0               |0             |0                    |0                       |0                |0                   |0             |0            |0                      |0                |0                |0            |0               |0              |0           |0           |0                     |0                  |0                |0                  |0             |0               |0            |0                   |0                |0                  |0              |0                |0           |0                  |0            |0         |0                  |0               |0               |0          |0            |0         |\n",
            "|0                      |0                        |0                     |0                   |0                     |0                  |0                     |0                  |0                  |0               |0                    |0                      |0                 |0                  |0                  |0               |0                     |0                |0                  |0               |0                  |0               |0           |0              |0                  |0               |0            |0                           |0                        |0                           |0                              |0                                 |0                           |0                       |0                          |0                          |0                      |0                 |0                     |0                        |0                           |0                           |0                    |0                       |0                    |0                           |0                        |0              |0                  |0                     |0                     |0                 |0                          |0                      |0                   |0               |0             |0                    |0                       |0                |0                   |0             |0            |0                      |0                |0                |0            |0               |0              |0           |0           |0                     |0                  |0                |0                  |0             |0               |0            |0                   |0                |0                  |1              |0                |0           |0                  |0            |0         |0                  |0               |0               |0          |0            |0         |\n",
            "|0                      |0                        |0                     |0                   |1                     |0                  |0                     |0                  |0                  |0               |0                    |0                      |0                 |0                  |0                  |0               |0                     |0                |0                  |0               |0                  |0               |0           |0              |0                  |0               |0            |0                           |0                        |0                           |0                              |0                                 |0                           |0                       |0                          |0                          |0                      |0                 |0                     |0                        |0                           |0                           |0                    |0                       |0                    |0                           |0                        |0              |0                  |0                     |0                     |0                 |0                          |0                      |0                   |0               |0             |0                    |0                       |0                |0                   |0             |0            |0                      |0                |0                |0            |0               |0              |0           |0           |0                     |0                  |0                |0                  |0             |0               |0            |0                   |0                |0                  |0              |0                |0           |0                  |0            |0         |0                  |0               |0               |0          |0            |0         |\n",
            "|0                      |0                        |0                     |0                   |1                     |0                  |0                     |0                  |0                  |0               |0                    |0                      |0                 |0                  |0                  |0               |0                     |0                |0                  |0               |0                  |0               |0           |0              |0                  |0               |0            |0                           |0                        |0                           |0                              |0                                 |0                           |0                       |0                          |0                          |0                      |0                 |0                     |0                        |0                           |0                           |0                    |0                       |0                    |0                           |0                        |0              |0                  |0                     |0                     |0                 |0                          |0                      |0                   |0               |0             |0                    |0                       |0                |0                   |0             |0            |0                      |0                |0                |0            |0               |0              |0           |0           |0                     |0                  |0                |0                  |0             |0               |0            |0                   |0                |0                  |0              |0                |0           |0                  |0            |0         |0                  |0               |0               |0          |0            |0         |\n",
            "|0                      |0                        |0                     |0                   |0                     |0                  |0                     |0                  |0                  |0               |0                    |0                      |0                 |0                  |0                  |0               |0                     |0                |0                  |0               |0                  |0               |0           |0              |0                  |0               |0            |0                           |0                        |0                           |0                              |0                                 |0                           |0                       |0                          |0                          |0                      |0                 |0                     |0                        |0                           |0                           |0                    |0                       |0                    |0                           |0                        |0              |0                  |0                     |0                     |0                 |0                          |0                      |0                   |0               |0             |0                    |0                       |0                |0                   |0             |0            |0                      |0                |0                |0            |0               |0              |0           |0           |0                     |0                  |0                |0                  |0             |0               |0            |0                   |0                |0                  |1              |0                |0           |0                  |0            |0         |0                  |0               |0               |0          |0            |0         |\n",
            "|0                      |0                        |0                     |0                   |0                     |0                  |0                     |0                  |0                  |0               |0                    |0                      |0                 |0                  |0                  |0               |0                     |0                |1                  |0               |0                  |0               |0           |0              |0                  |0               |0            |0                           |0                        |0                           |0                              |0                                 |0                           |0                       |0                          |0                          |0                      |0                 |0                     |0                        |0                           |0                           |0                    |0                       |0                    |0                           |0                        |0              |0                  |0                     |0                     |0                 |0                          |0                      |0                   |0               |0             |0                    |0                       |0                |0                   |0             |0            |0                      |0                |0                |0            |0               |0              |0           |0           |0                     |0                  |0                |0                  |0             |0               |0            |0                   |0                |0                  |0              |0                |0           |0                  |0            |0         |0                  |0               |0               |0          |0            |0         |\n",
            "|0                      |1                        |0                     |0                   |0                     |0                  |0                     |0                  |0                  |0               |0                    |0                      |0                 |0                  |0                  |0               |0                     |0                |0                  |0               |0                  |0               |0           |0              |0                  |0               |0            |0                           |0                        |0                           |0                              |0                                 |0                           |0                       |0                          |0                          |0                      |0                 |0                     |0                        |0                           |0                           |0                    |0                       |0                    |0                           |0                        |0              |0                  |0                     |0                     |0                 |0                          |0                      |0                   |0               |0             |0                    |0                       |0                |0                   |0             |0            |0                      |0                |0                |0            |0               |0              |0           |0           |0                     |0                  |0                |0                  |0             |0               |0            |0                   |0                |0                  |0              |0                |0           |0                  |0            |0         |0                  |0               |0               |0          |0            |0         |\n",
            "|0                      |1                        |0                     |0                   |0                     |0                  |0                     |0                  |0                  |0               |0                    |0                      |0                 |0                  |0                  |0               |0                     |0                |0                  |0               |0                  |0               |0           |0              |0                  |0               |0            |0                           |0                        |0                           |0                              |0                                 |0                           |0                       |0                          |0                          |0                      |0                 |0                     |0                        |0                           |0                           |0                    |0                       |0                    |0                           |0                        |0              |0                  |0                     |0                     |0                 |0                          |0                      |0                   |0               |0             |0                    |0                       |0                |0                   |0             |0            |0                      |0                |0                |0            |0               |0              |0           |0           |0                     |0                  |0                |0                  |0             |0               |0            |0                   |0                |0                  |0              |0                |0           |0                  |0            |0         |0                  |0               |0               |0          |0            |0         |\n",
            "|0                      |0                        |0                     |0                   |0                     |0                  |0                     |0                  |0                  |0               |0                    |0                      |0                 |0                  |0                  |0               |0                     |0                |0                  |0               |0                  |0               |0           |0              |0                  |0               |0            |0                           |0                        |0                           |0                              |0                                 |0                           |0                       |0                          |0                          |0                      |0                 |0                     |0                        |0                           |0                           |0                    |0                       |0                    |0                           |0                        |0              |0                  |0                     |0                     |0                 |0                          |0                      |0                   |0               |0             |0                    |0                       |0                |0                   |0             |0            |0                      |0                |0                |0            |0               |0              |0           |0           |0                     |0                  |0                |0                  |0             |0               |0            |0                   |0                |0                  |1              |0                |0           |0                  |0            |0         |0                  |0               |0               |0          |0            |0         |\n",
            "|0                      |0                        |0                     |0                   |0                     |0                  |0                     |0                  |0                  |0               |0                    |0                      |0                 |0                  |0                  |0               |0                     |0                |0                  |0               |0                  |0               |0           |0              |0                  |0               |0            |0                           |0                        |0                           |1                              |0                                 |0                           |0                       |0                          |0                          |0                      |0                 |0                     |0                        |0                           |0                           |0                    |0                       |0                    |0                           |0                        |0              |0                  |0                     |0                     |0                 |0                          |0                      |0                   |0               |0             |0                    |0                       |0                |0                   |0             |0            |0                      |0                |0                |0            |0               |0              |0           |0           |0                     |0                  |0                |0                  |0             |0               |0            |0                   |0                |0                  |0              |0                |0           |0                  |0            |0         |0                  |0               |0               |0          |0            |0         |\n",
            "|0                      |0                        |0                     |0                   |1                     |0                  |0                     |0                  |0                  |0               |0                    |0                      |0                 |0                  |0                  |0               |0                     |0                |0                  |0               |0                  |0               |0           |0              |0                  |0               |0            |0                           |0                        |0                           |0                              |0                                 |0                           |0                       |0                          |0                          |0                      |0                 |0                     |0                        |0                           |0                           |0                    |0                       |0                    |0                           |0                        |0              |0                  |0                     |0                     |0                 |0                          |0                      |0                   |0               |0             |0                    |0                       |0                |0                   |0             |0            |0                      |0                |0                |0            |0               |0              |0           |0           |0                     |0                  |0                |0                  |0             |0               |0            |0                   |0                |0                  |0              |0                |0           |0                  |0            |0         |0                  |0               |0               |0          |0            |0         |\n",
            "|0                      |0                        |0                     |0                   |1                     |0                  |0                     |0                  |0                  |0               |0                    |0                      |0                 |0                  |0                  |0               |0                     |0                |0                  |0               |0                  |0               |0           |0              |0                  |0               |0            |0                           |0                        |0                           |0                              |0                                 |0                           |0                       |0                          |0                          |0                      |0                 |0                     |0                        |0                           |0                           |0                    |0                       |0                    |0                           |0                        |0              |0                  |0                     |0                     |0                 |0                          |0                      |0                   |0               |0             |0                    |0                       |0                |0                   |0             |0            |0                      |0                |0                |0            |0               |0              |0           |0           |0                     |0                  |0                |0                  |0             |0               |0            |0                   |0                |0                  |0              |0                |0           |0                  |0            |0         |0                  |0               |0               |0          |0            |0         |\n",
            "|0                      |1                        |0                     |0                   |0                     |0                  |0                     |0                  |0                  |0               |0                    |0                      |0                 |0                  |0                  |0               |0                     |0                |0                  |0               |0                  |0               |0           |0              |0                  |0               |0            |0                           |0                        |0                           |0                              |0                                 |0                           |0                       |0                          |0                          |0                      |0                 |0                     |0                        |0                           |0                           |0                    |0                       |0                    |0                           |0                        |0              |0                  |0                     |0                     |0                 |0                          |0                      |0                   |0               |0             |0                    |0                       |0                |0                   |0             |0            |0                      |0                |0                |0            |0               |0              |0           |0           |0                     |0                  |0                |0                  |0             |0               |0            |0                   |0                |0                  |0              |0                |0           |0                  |0            |0         |0                  |0               |0               |0          |0            |0         |\n",
            "|0                      |0                        |0                     |0                   |0                     |0                  |0                     |0                  |0                  |0               |0                    |0                      |0                 |0                  |0                  |0               |0                     |0                |0                  |0               |0                  |0               |0           |0              |0                  |0               |0            |0                           |0                        |0                           |0                              |0                                 |0                           |0                       |0                          |0                          |0                      |0                 |0                     |0                        |0                           |0                           |0                    |0                       |0                    |0                           |0                        |0              |0                  |0                     |0                     |0                 |0                          |0                      |0                   |0               |0             |0                    |0                       |0                |0                   |0             |0            |0                      |0                |0                |0            |0               |0              |0           |0           |0                     |0                  |0                |0                  |0             |0               |0            |0                   |0                |0                  |0              |0                |0           |0                  |0            |0         |0                  |0               |0               |0          |1            |0         |\n",
            "+-----------------------+-------------------------+----------------------+--------------------+----------------------+-------------------+----------------------+-------------------+-------------------+----------------+---------------------+-----------------------+------------------+-------------------+-------------------+----------------+----------------------+-----------------+-------------------+----------------+-------------------+----------------+------------+---------------+-------------------+----------------+-------------+----------------------------+-------------------------+----------------------------+-------------------------------+----------------------------------+----------------------------+------------------------+---------------------------+---------------------------+-----------------------+------------------+----------------------+-------------------------+----------------------------+----------------------------+---------------------+------------------------+---------------------+----------------------------+-------------------------+---------------+-------------------+----------------------+----------------------+------------------+---------------------------+-----------------------+--------------------+----------------+--------------+---------------------+------------------------+-----------------+--------------------+--------------+-------------+-----------------------+-----------------+-----------------+-------------+----------------+---------------+------------+------------+----------------------+-------------------+-----------------+-------------------+--------------+----------------+-------------+--------------------+-----------------+-------------------+---------------+-----------------+------------+-------------------+-------------+----------+-------------------+----------------+----------------+-----------+-------------+----------+\n",
            "only showing top 20 rows\n",
            "\n"
          ]
        },
        {
          "output_type": "error",
          "ename": "AnalysisException",
          "evalue": "ignored",
          "traceback": [
            "\u001b[0;31m---------------------------------------------------------------------------\u001b[0m",
            "\u001b[0;31mAnalysisException\u001b[0m                         Traceback (most recent call last)",
            "\u001b[0;32m<ipython-input-207-e48aa333629b>\u001b[0m in \u001b[0;36m<module>\u001b[0;34m()\u001b[0m\n\u001b[1;32m     28\u001b[0m \u001b[0mpivotdf\u001b[0m\u001b[0;34m.\u001b[0m\u001b[0mshow\u001b[0m\u001b[0;34m(\u001b[0m\u001b[0mtruncate\u001b[0m\u001b[0;34m=\u001b[0m\u001b[0;32mFalse\u001b[0m\u001b[0;34m)\u001b[0m\u001b[0;34m\u001b[0m\u001b[0;34m\u001b[0m\u001b[0m\n\u001b[1;32m     29\u001b[0m \u001b[0mpivotdfConfig\u001b[0m\u001b[0;34m.\u001b[0m\u001b[0mselect\u001b[0m\u001b[0;34m(\u001b[0m\u001b[0mConfigSelections\u001b[0m\u001b[0;34m)\u001b[0m\u001b[0;34m.\u001b[0m\u001b[0mshow\u001b[0m\u001b[0;34m(\u001b[0m\u001b[0mtruncate\u001b[0m\u001b[0;34m=\u001b[0m\u001b[0;32mFalse\u001b[0m\u001b[0;34m)\u001b[0m\u001b[0;34m\u001b[0m\u001b[0;34m\u001b[0m\u001b[0m\n\u001b[0;32m---> 30\u001b[0;31m \u001b[0mpivotdfDeparture\u001b[0m\u001b[0;34m.\u001b[0m\u001b[0mselect\u001b[0m\u001b[0;34m(\u001b[0m\u001b[0mDeptSelections\u001b[0m\u001b[0;34m)\u001b[0m\u001b[0;34m.\u001b[0m\u001b[0mshow\u001b[0m\u001b[0;34m(\u001b[0m\u001b[0mtruncate\u001b[0m\u001b[0;34m=\u001b[0m\u001b[0;32mFalse\u001b[0m\u001b[0;34m)\u001b[0m\u001b[0;34m\u001b[0m\u001b[0;34m\u001b[0m\u001b[0m\n\u001b[0m\u001b[1;32m     31\u001b[0m \u001b[0mpivotdfArrival\u001b[0m\u001b[0;34m.\u001b[0m\u001b[0mselect\u001b[0m\u001b[0;34m(\u001b[0m\u001b[0mArrvSelections\u001b[0m\u001b[0;34m)\u001b[0m\u001b[0;34m.\u001b[0m\u001b[0mshow\u001b[0m\u001b[0;34m(\u001b[0m\u001b[0mtruncate\u001b[0m\u001b[0;34m=\u001b[0m\u001b[0;32mFalse\u001b[0m\u001b[0;34m)\u001b[0m\u001b[0;34m\u001b[0m\u001b[0;34m\u001b[0m\u001b[0m\n",
            "\u001b[0;32m/usr/local/lib/python3.7/dist-packages/pyspark/sql/dataframe.py\u001b[0m in \u001b[0;36mselect\u001b[0;34m(self, *cols)\u001b[0m\n\u001b[1;32m   1683\u001b[0m         \u001b[0;34m[\u001b[0m\u001b[0mRow\u001b[0m\u001b[0;34m(\u001b[0m\u001b[0mname\u001b[0m\u001b[0;34m=\u001b[0m\u001b[0;34m'Alice'\u001b[0m\u001b[0;34m,\u001b[0m \u001b[0mage\u001b[0m\u001b[0;34m=\u001b[0m\u001b[0;36m12\u001b[0m\u001b[0;34m)\u001b[0m\u001b[0;34m,\u001b[0m \u001b[0mRow\u001b[0m\u001b[0;34m(\u001b[0m\u001b[0mname\u001b[0m\u001b[0;34m=\u001b[0m\u001b[0;34m'Bob'\u001b[0m\u001b[0;34m,\u001b[0m \u001b[0mage\u001b[0m\u001b[0;34m=\u001b[0m\u001b[0;36m15\u001b[0m\u001b[0;34m)\u001b[0m\u001b[0;34m]\u001b[0m\u001b[0;34m\u001b[0m\u001b[0;34m\u001b[0m\u001b[0m\n\u001b[1;32m   1684\u001b[0m         \"\"\"\n\u001b[0;32m-> 1685\u001b[0;31m         \u001b[0mjdf\u001b[0m \u001b[0;34m=\u001b[0m \u001b[0mself\u001b[0m\u001b[0;34m.\u001b[0m\u001b[0m_jdf\u001b[0m\u001b[0;34m.\u001b[0m\u001b[0mselect\u001b[0m\u001b[0;34m(\u001b[0m\u001b[0mself\u001b[0m\u001b[0;34m.\u001b[0m\u001b[0m_jcols\u001b[0m\u001b[0;34m(\u001b[0m\u001b[0;34m*\u001b[0m\u001b[0mcols\u001b[0m\u001b[0;34m)\u001b[0m\u001b[0;34m)\u001b[0m\u001b[0;34m\u001b[0m\u001b[0;34m\u001b[0m\u001b[0m\n\u001b[0m\u001b[1;32m   1686\u001b[0m         \u001b[0;32mreturn\u001b[0m \u001b[0mDataFrame\u001b[0m\u001b[0;34m(\u001b[0m\u001b[0mjdf\u001b[0m\u001b[0;34m,\u001b[0m \u001b[0mself\u001b[0m\u001b[0;34m.\u001b[0m\u001b[0msql_ctx\u001b[0m\u001b[0;34m)\u001b[0m\u001b[0;34m\u001b[0m\u001b[0;34m\u001b[0m\u001b[0m\n\u001b[1;32m   1687\u001b[0m \u001b[0;34m\u001b[0m\u001b[0m\n",
            "\u001b[0;32m/usr/local/lib/python3.7/dist-packages/py4j/java_gateway.py\u001b[0m in \u001b[0;36m__call__\u001b[0;34m(self, *args)\u001b[0m\n\u001b[1;32m   1320\u001b[0m         \u001b[0manswer\u001b[0m \u001b[0;34m=\u001b[0m \u001b[0mself\u001b[0m\u001b[0;34m.\u001b[0m\u001b[0mgateway_client\u001b[0m\u001b[0;34m.\u001b[0m\u001b[0msend_command\u001b[0m\u001b[0;34m(\u001b[0m\u001b[0mcommand\u001b[0m\u001b[0;34m)\u001b[0m\u001b[0;34m\u001b[0m\u001b[0;34m\u001b[0m\u001b[0m\n\u001b[1;32m   1321\u001b[0m         return_value = get_return_value(\n\u001b[0;32m-> 1322\u001b[0;31m             answer, self.gateway_client, self.target_id, self.name)\n\u001b[0m\u001b[1;32m   1323\u001b[0m \u001b[0;34m\u001b[0m\u001b[0m\n\u001b[1;32m   1324\u001b[0m         \u001b[0;32mfor\u001b[0m \u001b[0mtemp_arg\u001b[0m \u001b[0;32min\u001b[0m \u001b[0mtemp_args\u001b[0m\u001b[0;34m:\u001b[0m\u001b[0;34m\u001b[0m\u001b[0;34m\u001b[0m\u001b[0m\n",
            "\u001b[0;32m/usr/local/lib/python3.7/dist-packages/pyspark/sql/utils.py\u001b[0m in \u001b[0;36mdeco\u001b[0;34m(*a, **kw)\u001b[0m\n\u001b[1;32m    115\u001b[0m                 \u001b[0;31m# Hide where the exception came from that shows a non-Pythonic\u001b[0m\u001b[0;34m\u001b[0m\u001b[0;34m\u001b[0m\u001b[0;34m\u001b[0m\u001b[0m\n\u001b[1;32m    116\u001b[0m                 \u001b[0;31m# JVM exception message.\u001b[0m\u001b[0;34m\u001b[0m\u001b[0;34m\u001b[0m\u001b[0;34m\u001b[0m\u001b[0m\n\u001b[0;32m--> 117\u001b[0;31m                 \u001b[0;32mraise\u001b[0m \u001b[0mconverted\u001b[0m \u001b[0;32mfrom\u001b[0m \u001b[0;32mNone\u001b[0m\u001b[0;34m\u001b[0m\u001b[0;34m\u001b[0m\u001b[0m\n\u001b[0m\u001b[1;32m    118\u001b[0m             \u001b[0;32melse\u001b[0m\u001b[0;34m:\u001b[0m\u001b[0;34m\u001b[0m\u001b[0;34m\u001b[0m\u001b[0m\n\u001b[1;32m    119\u001b[0m                 \u001b[0;32mraise\u001b[0m\u001b[0;34m\u001b[0m\u001b[0;34m\u001b[0m\u001b[0m\n",
            "\u001b[0;31mAnalysisException\u001b[0m: cannot resolve 'timestamp' given input columns: [12, 26L, 26R, 27, 30, 8L, 8R, 9, deptTimestamp];\n'Project [CASE WHEN isnull('timestamp) THEN 0 ELSE 1 END AS timestamp#118580, CASE WHEN isnull('D_12_8L_8R_9_A_12_8L_8R) THEN 0 ELSE 1 END AS D_12_8L_8R_9_A_12_8L_8R#118581, CASE WHEN isnull('D_12_8L_8R_9_A_12_8L_8R_9) THEN 0 ELSE 1 END AS D_12_8L_8R_9_A_12_8L_8R_9#118582, CASE WHEN isnull('D_12_8L_8R_9_A_12_8L_9) THEN 0 ELSE 1 END AS D_12_8L_8R_9_A_12_8L_9#118583, CASE WHEN isnull('D_12_8L_8R_9_A_12_8R) THEN 0 ELSE 1 END AS D_12_8L_8R_9_A_12_8R#118584, CASE WHEN isnull('D_12_8L_8R_9_A_12_8R_9) THEN 0 ELSE 1 END AS D_12_8L_8R_9_A_12_8R_9#118585, CASE WHEN isnull('D_12_8L_8R_9_A_12_9) THEN 0 ELSE 1 END AS D_12_8L_8R_9_A_12_9#118586, CASE WHEN isnull('D_12_8L_8R_9_A_8L_8R_9) THEN 0 ELSE 1 END AS D_12_8L_8R_9_A_8L_8R_9#118587, CASE WHEN isnull('D_12_8L_8R_9_A_8L_9) THEN 0 ELSE 1 END AS D_12_8L_8R_9_A_8L_9#118588, CASE WHEN isnull('D_12_8L_8R_9_A_8R_9) THEN 0 ELSE 1 END AS D_12_8L_8R_9_A_8R_9#118589, CASE WHEN isnull('D_12_8L_8R_9_A_9) THEN 0 ELSE 1 END AS D_12_8L_8R_9_A_9#118590, CASE WHEN isnull('D_12_8L_8R_A_12_8L_8R) THEN 0 ELSE 1 END AS D_12_8L_8R_A_12_8L_8R#118591, CASE WHEN isnull('D_12_8L_8R_A_12_8L_8R_9) THEN 0 ELSE 1 END AS D_12_8L_8R_A_12_8L_8R_9#118592, CASE WHEN isnull('D_12_8L_8R_A_12_8R) THEN 0 ELSE 1 END AS D_12_8L_8R_A_12_8R#118593, CASE WHEN isnull('D_12_8L_9_A_12_8L_9) THEN 0 ELSE 1 END AS D_12_8L_9_A_12_8L_9#118594, CASE WHEN isnull('D_12_8L_9_A_12_8R_9) THEN 0 ELSE 1 END AS D_12_8L_9_A_12_8R_9#118595, CASE WHEN isnull('D_12_8L_9_A_12_9) THEN 0 ELSE 1 END A...\n+- Project [timestamp#63998 AS deptTimestamp#117911, 12#117816L, 26L#117817L, 26R#117818L, 27#117819L, 30#117820L, 8L#117821L, 8R#117822L, 9#117823L]\n   +- Project [timestamp#63998, __pivot_count(1) AS count AS `count(1) AS count`#117815[0] AS 12#117816L, __pivot_count(1) AS count AS `count(1) AS count`#117815[1] AS 26L#117817L, __pivot_count(1) AS count AS `count(1) AS count`#117815[2] AS 26R#117818L, __pivot_count(1) AS count AS `count(1) AS count`#117815[3] AS 27#117819L, __pivot_count(1) AS count AS `count(1) AS count`#117815[4] AS 30#117820L, __pivot_count(1) AS count AS `count(1) AS count`#117815[5] AS 8L#117821L, __pivot_count(1) AS count AS `count(1) AS count`#117815[6] AS 8R#117822L, __pivot_count(1) AS count AS `count(1) AS count`#117815[7] AS 9#117823L]\n      +- Aggregate [timestamp#63998], [timestamp#63998, pivotfirst(DepartureRunways#64019, count(1) AS count#117797L, 12, 26L, 26R, 27, 30, 8L, 8R, 9, 0, 0) AS __pivot_count(1) AS count AS `count(1) AS count`#117815]\n         +- Aggregate [timestamp#63998, DepartureRunways#64019], [timestamp#63998, DepartureRunways#64019, count(1) AS count(1) AS count#117797L]\n            +- Project [timestamp#63998, airport_config#64003, DepartureRunways#64019, ArrivalRunways#64025, 1 AS isExists#64042]\n               +- Project [timestamp#63998, airport_config#64003, DepartureRunways#64019, ArrivalRunways#64025]\n                  +- Generate explode(split(ArrivalRunways#64013, _, -1)), false, [ArrivalRunways#64025]\n                     +- Project [timestamp#63998, airport_config#64003, DepartureRunways#64019, ArrivalRunways#64013]\n                        +- Generate explode(split(DepartureRunways#64008, _, -1)), false, [DepartureRunways#64019]\n                           +- Project [timestamp#63998, airport_config#64003, DepartureRunways#64008, _4#63993 AS ArrivalRunways#64013]\n                              +- Project [timestamp#63998, airport_config#64003, _3#63992 AS DepartureRunways#64008, _4#63993]\n                                 +- Project [timestamp#63998, _2#63991 AS airport_config#64003, _3#63992, _4#63993]\n                                    +- Project [_1#63990 AS timestamp#63998, _2#63991, _3#63992, _4#63993]\n                                       +- LogicalRDD [_1#63990, _2#63991, _3#63992, _4#63993], false\n"
          ]
        }
      ]
    },
    {
      "cell_type": "markdown",
      "source": [
        "Functions used in data prep "
      ],
      "metadata": {
        "id": "UVVszwcFxdXj"
      }
    },
    {
      "cell_type": "code",
      "source": [
        "#Does null handling for Lightning Probability Column\n",
        "def LightningNoneCheck(StringInput):\n",
        "  if StringInput != \"None\":\n",
        "    return StringInput\n",
        "  elif StringInput == None:\n",
        "    StringOutput = \"N\"\n",
        "    return StringOutput\n",
        "  elif StringInput is NullType:\n",
        "    StringOutput = \"N\"\n",
        "    return StringOutput\n",
        "\n",
        "#Parses Airport Runway Configuration into a tuple of Departure and Arrival \n",
        "##runways\n",
        "def AirportConfigDeptArv(strAirportRunwayConfig):\n",
        "  for i in range(len(strAirportRunwayConfig)):\n",
        "    CurrentCharacter = strAirportRunwayConfig[i]\n",
        "    if CurrentCharacter == 'A':\n",
        "      DepartureString = strAirportRunwayConfig[2:(i-1)]\n",
        "      ArrivalString = strAirportRunwayConfig[(i+2):(len(strAirportRunwayConfig))]\n",
        "      return(DepartureString, ArrivalString)\n",
        "\n",
        "#Maps all possible runway configurations for a column\n",
        "#Reduces by count\n",
        "#Remaps by eliminating the counts\n",
        "#Outputs rdd of all unique entries in column\n",
        "\n",
        "def MapReduceOneHotArptConfig(AirportConfigDataFrame, Column):\n",
        "  \n",
        "  if Column == 'airport_config':\n",
        "    ListOutput = \\\n",
        "    AirportConfigDataFrame.na.drop().\\\n",
        "    rdd.map(lambda row : (row.airport_config,1))\n",
        "  elif Column == 'DepartureRunways':\n",
        "    ListOutput = \\\n",
        "    AirportConfigDataFrame.na.drop().\\\n",
        "    rdd.map(lambda row : (row.DepartureRunways,1))\n",
        "  elif Column == 'ArrivalRunways':\n",
        "    ListOutput = \\\n",
        "    AirportConfigDataFrame.na.drop().\\\n",
        "    rdd.map(lambda row : (row.ArrivalRunways,1))\n",
        "  \n",
        "  ListOutput = \\\n",
        "    ListOutput.\\\n",
        "    reduceByKey(lambda a,b: a+b)\n",
        "\n",
        "  ListOutput = \\\n",
        "    ListOutput.\\\n",
        "    map(lambda a: a[0])\n",
        "  \n",
        "  return ListOutput.collect()\n",
        "\n",
        "\n",
        "def WindowTimeStamp(Dataframe):\n",
        "  pass"
      ],
      "metadata": {
        "id": "drxqaYXWyACi"
      },
      "execution_count": 154,
      "outputs": []
    },
    {
      "cell_type": "markdown",
      "source": [
        "[DATA PREP]\n",
        "\n",
        "Only run once\n",
        "Null Handling\n",
        "Timestamp Merger"
      ],
      "metadata": {
        "id": "bHQqNMQX5Z_6"
      }
    },
    {
      "cell_type": "code",
      "source": [
        "from pyspark.sql.column import Column\n",
        "ArptConfigEncoder = {}\n",
        "\n",
        "for airport in DFDictionary:  \n",
        "  ArptConfigEncoder[airport] = {}\n",
        "  for fileshort in DFDictionary[airport]:\n",
        "    if fileshort == 'ArptConfig':\n",
        "      #Create new columns with individual runways used (departure & arrival)\n",
        "      DFDictionary[airport]['ArptConfig'] = DFDictionary[airport]['ArptConfig'].\\\n",
        "        na.drop().rdd.map(lambda row: row + AirportConfigDeptArv(row.airport_config))\n",
        "      DFDictionary[airport][fileshort] = spark.createDataFrame(\n",
        "          DFDictionary[airport][fileshort]).withColumnRenamed('_1','timestamp').\\\n",
        "      withColumnRenamed('_2', 'airport_config').\\\n",
        "      withColumnRenamed('_3', 'DepartureRunways').\\\n",
        "      withColumnRenamed('_4', 'ArrivalRunways').\\\n",
        "      withColumn('DepartureRunways', explode(split('DepartureRunways', '_'))).\\\n",
        "      withColumn('ArrivalRunways', explode(split('ArrivalRunways', '_')))\n",
        "\n",
        "#withColumnRenamed('_3', 'isExists').\\\n",
        "\n",
        "      #Create 3 rdd's to be used for one-hot encoding output columns\n",
        "      ArptConfigEncoder[airport]['ConfigOutput'] = MapReduceOneHotArptConfig(\n",
        "          DFDictionary[airport][fileshort] , 'airport_config'\n",
        "      )\n",
        "      ArptConfigEncoder[airport]['DepartureOutput'] = MapReduceOneHotArptConfig(\n",
        "          DFDictionary[airport][fileshort] , 'DepartureRunways'\n",
        "      )\n",
        "      ArptConfigEncoder[airport]['ArrivalOutput'] = MapReduceOneHotArptConfig(\n",
        "          DFDictionary[airport][fileshort] , 'ArrivalRunways'\n",
        "      )\n",
        "\n",
        "\n",
        "    if fileshort == 'Lamp':\n",
        "      DFDictionary[airport][fileshort] = DFDictionary[airport][fileshort].\\\n",
        "      fillna(\"N\", subset = \"lightning_prob\")\n",
        "      DFDictionary[airport][fileshort] = DFDictionary[airport][fileshort].\\\n",
        "      fillna(\"CL\", subset = \"cloud\")\n",
        "      DFDictionary[airport][fileshort] = DFDictionary[airport][fileshort].\\\n",
        "      fillna(8, subset = \"cloud_ceiling\")\n",
        "      DFDictionary[airport][fileshort] = DFDictionary[airport][fileshort].\\\n",
        "      withColumn(\"lightning_prob\", when(DFDictionary[airport][fileshort].\\\n",
        "                                        lightning_prob == None, \"N\").\\\n",
        "                 otherwise(DFDictionary[airport][fileshort].lightning_prob))\n",
        "      DFDictionary[airport][fileshort].createOrReplaceTempView(\"DataFrame\")\n",
        "      query = \"SELECT timestamp  ,forecast_timestamp  ,temperature  ,wind_direction  ,wind_speed  ,wind_gust  ,cloud_ceiling  ,visibility  ,cloud  ,lightning_prob  ,precip  FROM (SELECT timestamp   ,forecast_timestamp  ,temperature  ,wind_direction  ,wind_speed  ,wind_gust  ,cloud_ceiling  ,visibility  ,cloud  ,lightning_prob  ,precip,ROW_NUMBER() OVER(PARTITION BY timestamp ORDER BY forecast_timestamp asc) as row_number FROM DataFrame) WHERE row_number = 1\"\n",
        "      DFDictionary[airport][fileshort] = spark.sql(query).na.drop()\n",
        "\n",
        "    \"\"\"DFDictionary[airport][fileshort].timestamp = (\n",
        "        DFDictionary[airport][fileshort]\n",
        "    )\"\"\"\n",
        "\n",
        "    DFDictionary[airport][fileshort] = DFDictionary[airport][fileshort].withColumn('isExists', lit(1))\n"
      ],
      "metadata": {
        "id": "SA6dKGAz974U"
      },
      "execution_count": 183,
      "outputs": []
    },
    {
      "cell_type": "code",
      "source": [
        "for value in ArptConfigEncoder:\n",
        "  print(value)\n",
        "  for dfish in ArptConfigEncoder[value]:\n",
        "    print(dfish + \":\\n\\t\")\n",
        "    print(ArptConfigEncoder[value][dfish])\n",
        "\n",
        "\"\"\"\n",
        "ohe.setInputCols(['airport_config', 'DepartureRunways', 'ArrivalRunways'])\n",
        "ohe.setOutputCols([ArptConfigEncoder['mia']['ConfigOutput']\n",
        "                   ,ArptConfigEncoder['mia']['DepartureOutput']\n",
        "                   ,ArptConfigEncoder['mia']['ArrivalOutput']])\n",
        "\"\"\""
      ],
      "metadata": {
        "id": "ALrRhNYg3U7m",
        "colab": {
          "base_uri": "https://localhost:8080/",
          "height": 1000
        },
        "outputId": "d17fb622-8098-485a-e464-c00eed7cf5c3"
      },
      "execution_count": 162,
      "outputs": [
        {
          "output_type": "stream",
          "name": "stdout",
          "text": [
            "atl\n",
            "ConfigOutput:\n",
            "\t\n",
            "['D_8R_9L_A_10_8L_9R', 'D_8L_9L_A_10_8L_9R', 'D_26L_27R_8R_9L_A_26R_27L_28', 'D_26L_27R_A_26R_27L_28', 'D_26L_27R_A_26R_27R_28', 'D_26R_27R_A_26R_27R_28', 'D_26R_27R_A_26R_27L_28', 'D_26L_26R_27R_A_26R_27L_28', 'D_8R_9L_A_10_8R_9R', 'D_8L_9L_A_10_8L_9L', 'D_8L_8R_9L_A_10_8L_9R', 'D_9L_A_10_9R', 'D_9L_A_10_8L_9R', 'D_8R_9L_A_10_8L', 'D_9L_A_10', 'D_27R_A_28', 'D_26L_A_26R_27L_28', 'D_26L_27R_A_26R_27L', 'D_27R_A_26R_27L_28', 'D_27R_A_27L_28', 'D_26L_27R_A_26L_27L_28', 'D_27R_28_A_27L_28', 'D_26L_27R_28_A_26R_27L_28', 'D_28_8R_9L_A_10_8L_9R', 'D_26L_27R_A_26R_28', 'D_8R_9L_A_10_8L_9L', 'D_26L_27R_8R_9L_A_10_8L_9R', 'D_8R_9L_A_8L_9R', 'D_8R_A_10_8L_9R', 'D_26L_27R_9L_A_26R_27L_28', 'D_26L_27L_A_26R_27L_28', 'D_26L_28_A_26R_27L_28', 'D_26L_27R_A_27L_28', 'D_8R_9L_A_10_9R', 'D_26L_27L_27R_A_26R_27L_28', 'D_26L_27R_A_26L_27L', 'D_26L_27L_A_26L_27L_28', 'D_8R_9R_A_10_8L_9R', 'D_8R_9L_A_10_8R_9L', 'D_26R_27R_A_26R_27L', 'D_8R_9R_A_10_8R_9R', 'D_26R_27L_A_26R_27L_28', 'D_8L_9R_A_10_8L_9R', 'D_8L_9R_A_8L_9R', 'D_10_8L_8R_A_10_8L', 'D_10_8L_8R_9L_A_10_8L_9R', 'D_26L_26R_27L_A_26R_27L_28', 'D_8L_8R_9L_A_10_9R', 'D_8L_9L_A_10_9R', 'D_26L_27R_28_A_26R_28', 'D_26L_A_26L_27L_28', 'D_26R_27L_A_26R_27L', 'D_26L_27L_A_26R_27L', 'D_26L_27R_A_27L', 'D_27L_A_27L_28', 'D_10_8R_A_10_8R', 'D_26L_27R_A_26L_27R_28', 'D_8R_9L_A_8L_9L', 'D_8R_A_8L_9R', 'D_26L_26R_27R_A_26R_27L', 'D_8R_9L_A_8R_9L', 'D_8R_A_8R', 'D_8R_9L_A_8R', 'D_8R_9L_A_8R_9R', 'D_26L_27L_27R_A_26L_27L_28', 'D_26L_27R_A_26R_27R', 'D_26L_27R_A_26L_27R', 'D_8R_A_10_8R', 'D_10_8R_A_10_8L', 'D_26L_27R_A_26L_28', 'D_26L_28_A_26L_28', 'D_26L_27R_28_A_26L_28', 'D_26L_28_A_26R_28', 'D_26L_27L_A_27L_28', 'D_26L_27R_A_26R', 'D_26L_A_26R', 'D_26L_A_26R_28', 'D_26L_28_A_26L_27L_28', 'D_8R_A_9L', 'D_8R_A_8R_9L', 'D_8R_A_8L_9L', 'D_26L_27R_A_27R_28', 'D_27R_A_27R_28', 'D_27R_A_26L_27R_28', 'D_26L_27R_8R_A_26R_27L_28', 'D_27R_9L_A_10_9R', 'D_27R_8R_9L_A_10_9R', 'D_26L_26R_27R_A_27L_28', 'D_26R_27R_A_27L_28', 'D_27R_A_26L_27L_28', 'D_10_8R_A_10_8R_9R', 'D_10_8R_A_10_8L_9R', 'D_8R_9L_A_10_8R', 'D_10_8R_9L_A_10_8R_9R', 'D_10_8R_9L_A_10_8L_9R', 'D_8R_9R_A_8R_9R', 'D_8R_9L_9R_A_8L_9R', 'D_8R_9L_A_10_9L', 'D_9L_A_10_9L', 'D_26L_27R_8R_9L_A_8L_9L', 'D_8R_9L_9R_A_10_8L_9R', 'D_26L_27L_A_27L', 'D_26L_27L_A_26L_27L', 'D_26L_27R_28_A_26L_27R_28', 'D_26L_27R_28_A_26R_27R_28', 'D_10_8R_9L_A_10_9R', 'D_10_8R_9L_9R_A_10_8L_9R', 'D_10_9L_9R_A_10_8L_9R', 'D_26R_27L_28_A_26R_27L_28', 'D_26L_27L_28_A_26R_27L_28', 'D_26L_27L_27R_28_A_26R_27L_28', 'D_10_8R_9L_A_10_8R', 'D_8L_9L_A_10_8L', 'D_10_8L_A_10_8L', 'D_10_8R_9R_A_10_8R_9R', 'D_10_8R_9R_A_10_8L_9R', 'D_8R_A_10_8L', 'D_26L_27R_28_A_26L_27L_28', 'D_26L_27L_A_26R_28', 'D_26L_26R_27R_28_A_26R_28', 'D_26R_28_A_26R_28', 'D_26R_28_A_26R_27L_28', 'D_26R_27R_A_26R_28', 'D_26L_28_A_26R_27R_28', 'D_8R_A_10', 'D_10_8L_A_10_8L_9R', 'D_26R_27R_28_A_26R_28', 'D_27L_28_A_26R_27L_28', 'D_27L_28_A_27L_28', 'D_26L_27L_28_A_27L_28', 'D_26L_27L_27R_28_A_27L_28', 'D_9R_A_10_9R', 'D_8R_9R_A_10_9R', 'D_8L_8R_9R_A_10_8L_9R', 'D_10_8R_9L_9R_A_10_9R', 'D_10_9R_A_10_9R', 'D_10_8L_9R_A_10_8L_9R', 'D_9R_A_10', 'D_8L_A_10_9R', 'D_8L_9L_A_8L_9L', 'D_9L_A_10_8L', 'D_10_8L_8R_A_10_8L_9R', 'D_27L_A_26R_28', 'D_26R_28_A_27L_28', 'D_10_8R_9L_A_10_8L', 'D_8R_9R_A_8L_9R', 'D_8R_9R_A_9R', 'D_8R_9L_A_8L', 'D_10_8R_9R_A_10_9R', 'D_10_8R_A_10_9R', 'D_10_26L_28_8R_A_10_8L_9R', 'D_26L_27L_8R_9R_A_26R_27L_28', 'D_10_8L_8R_9R_A_10_8L_9R', 'D_10_9R_A_10', 'D_8R_A_10_9R', 'D_10_9L_A_10_9R', 'D_8L_9R_A_10_8L', 'D_26L_27L_8R_9R_A_10_8L_9R', 'D_8L_9L_A_8L_9R', 'D_27L_27R_A_27L_28', 'D_10_9R_A_10_8L_9R', 'D_9L_A_9R']\n",
            "DepartureOutput:\n",
            "\t\n",
            "['8R', '9L', '8L', '26L', '27R', '26R', '28', '27L', '9R', '10']\n",
            "ArrivalOutput:\n",
            "\t\n",
            "['10', '8L', '9R', '26R', '27L', '28', '27R', '8R', '9L', '26L']\n",
            "clt\n",
            "ConfigOutput:\n",
            "\t\n",
            "['D_36C_36R_A_36C_36L_36R', 'D_36R_A_36L_36R', 'D_36R_A_36R', 'D_36C_36R_A_36C_36R', 'D_18C_18L_A_18C_18L_18R', 'D_36C_A_36C_36L', 'D_36C_A_36C', 'D_18C_18L_A_18C_18L', 'D_36L_36R_A_36L_36R', 'D_36L_36R_A_36R', 'D_18C_A_18C_18R', 'D_18C_A_18C_18L_18R', 'D_18L_A_18L_18R', 'D_36C_36L_36R_A_36C_36L_36R', 'D_36R_A_36C_36L_36R', 'D_18L_A_18L', 'D_36C_36R_A_36L_36R', 'D_36C_A_36R', 'D_36C_A_36C_36R', 'D_36C_36R_A_36C_36L', 'D_18C_A_18C', 'D_18L_A_18C_18L_18R', 'D_18C_18L_A_18C_18R', 'D_36R_A_36C_36L', 'D_36C_36L_36R_A_36C_36L', 'D_18C_18L_18R_A_18C_18L_18R', 'D_18C_18R_A_18C_18L_18R', 'D_36C_36L_A_36C_36L_36R', 'D_18C_18L_A_18L', 'D_18C_18L_A_18L_18R', 'D_36C_36L_36R_A_36R', 'D_18C_A_18C_18L', 'D_36C_36R_A_36R', 'D_36C_A_36C_36L_36R', 'D_36R_A_36C_36R']\n",
            "DepartureOutput:\n",
            "\t\n",
            "['36C', '36R', '18C', '18L', '36L', '18R']\n",
            "ArrivalOutput:\n",
            "\t\n",
            "['36C', '36L', '36R', '18C', '18L', '18R']\n",
            "den\n",
            "ConfigOutput:\n",
            "\t\n",
            "['D_25_34L_8_A_34R_35L_35R', 'D_25_34L_34R_A_34R_35L_35R', 'D_17R_A_16L_16R_17R', 'D_34L_8_A_34R_35L_35R', 'D_25_34R_8_A_34R_35L_35R', 'D_34L_34R_8_A_34R_35L_35R', 'D_34R_A_34R_35L_35R', 'D_17L_17R_8_A_16L_17R', 'D_17R_8_A_16L_16R_17R', 'D_17R_25_8_A_16L_16R_17R', 'D_17L_8_A_16L_16R_17R', 'D_17L_25_8_A_16L_16R_17R', 'D_17L_17R_8_A_16L_16R_17R', 'D_25_34L_A_34R_35L_35R', 'D_34L_34R_A_34R_35L_35R', 'D_17L_17R_A_16L_16R_17R', 'D_17L_17R_25_8_A_16L_16R_17R', 'D_17R_A_17R', 'D_17R_A_16L_17R', 'D_34L_A_34R_35L_35R', 'D_25_34L_34R_A_26_34R_35L_35R', 'D_25_34L_A_26_34R_35L_35R', 'D_25_34L_8_A_35L_35R', 'D_25_34L_A_35L_35R', 'D_17L_A_16L_16R', 'D_17L_25_A_16L_16R_17R', 'D_17L_17R_25_A_16L_16R_17R', 'D_17L_17R_A_16R_17R', 'D_17L_A_16L_16R_17R', 'D_25_34L_A_34R_35R', 'D_34L_34R_35L_8_A_34R_35L_35R', 'D_25_34L_34R_A_35L_35R', 'D_34L_34R_A_35L_35R', 'D_34L_34R_A_35R', 'D_34R_A_35R', 'D_34R_A_35L', 'D_34R_A_35L_35R', 'D_25_34L_34R_8_A_34R_35L_35R', 'D_17L_25_8_A_16L_16R_17R_7', 'D_17L_25_8_A_16R_17R_7', 'D_17L_8_A_16L_16R_17R_7', 'D_25_34L_A_26_35L_35R', 'D_25_34L_34R_A_26_35L_35R', 'D_25_34L_A_26', 'D_25_34L_34R_A_26_35L', 'D_17R_8_A_16R_17R', 'D_8_A_16L', 'D_8_A_16L_16R', 'D_17L_8_A_16L_16R', 'D_17L_A_17L', 'D_34L_34R_A_34R', 'D_34L_34R_A_35L', 'D_34L_A_35L', 'D_17R_A_16R_17R', 'D_34L_8_A_35L_35R', 'D_34L_A_34L_34R', 'D_34L_A_34R_35L', 'D_34L_35L_A_34R_35L', 'D_34L_34R_A_34R_35L', 'D_25_34L_A_34R_35L', 'D_25_34L_A_35R', 'D_25_34R_A_35R', 'D_8_A_16L_16R_17R', 'D_17R_8_A_16L_17R', 'D_17L_17R_A_16L_17R', 'D_34L_34R_35L_A_34R_35L_35R', 'D_34R_A_34R_35L', 'D_17L_34L_8_A_16L_16R_17R', 'D_35L_A_35L', 'D_34R_8_A_35L', 'D_25_34L_8_A_34R_35R', 'D_34L_A_34R', 'D_25_34L_A_35L', 'D_17L_17R_25_8_A_16L_16R', 'D_17L_25_8_A_16L_17R', 'D_34R_35L_A_35L_35R', 'D_34L_35L_8_A_34R_35L_35R', 'D_25_34L_34R_A_25_26', 'D_34L_A_35L_35R', 'D_17L_25_8_A_16L_16R', 'D_34L_34R_35L_A_35L_35R', 'D_17L_17R_8_A_16R_17R', 'D_17L_17R_8_A_16L_16R', 'D_17R_25_A_16L_16R_17R', 'D_34L_34R_A_26_34R', 'D_25_8_A_16L_16R_35L_35R', 'D_17R_8_A_16L_16R', 'D_34R_35L_8_A_34R_35L_35R', 'D_17R_8_A_17R', 'D_17L_8_A_16L', 'D_17L_A_16L', 'D_16L_A_17R', 'D_25_34L_34R_8_A_35L', 'D_25_34L_34R_A_35L', 'D_25_34L_8_A_34R_35L', 'D_16L_A_16L_16R', 'D_8_A_34R_35L_35R', 'D_34L_8_A_34R_35R', 'D_34L_A_34R_35R', 'D_25_34L_A_25_26', 'D_25_34L_A_26_34R_35R', 'D_34R_8_A_34R_35L_35R', 'D_25_8_A_34R_35L_35R', 'D_25_8_A_34R_35L', 'D_34L_34R_8_A_35L_35R_7', 'D_34L_34R_35L_8_A_35L_35R', 'D_34R_35L_A_34R_35L_35R', 'D_17R_8_A_16L', 'D_34R_8_A_34R_35L', 'D_25_34R_A_35L_35R', 'D_25_34R_8_A_35L_35R', 'D_17L_8_A_16R', 'D_17L_8_A_16L_17R', 'D_34L_34R_8_A_35L_35R', 'D_16L_25_A_16R_17L_17R', 'D_16L_25_A_16L_17L_17R', 'D_16L_25_8_A_16L_16R_17R', 'D_17L_8_A_16R_17R_7', 'D_17L_8_A_16R_17R', 'D_17L_A_16L_17L', 'D_17L_17R_A_16L_17L_17R', 'D_17L_25_8_A_16R_17R', 'D_34L_34R_8_A_35L', 'D_34R_35L_8_A_35L_35R', 'D_25_34L_34R_35L_A_34R_35L_35R', 'D_34L_A_35R', 'D_16L_25_8_A_16R_17L_17R', 'D_25_8_A_16L_16R_17R', 'D_34L_8_A_34R_35L_35R_7', 'D_8_A_7', 'D_8_A_16L_16R_35L_35R', 'D_16L_25_A_16R_17R', 'D_16L_25_A_17R', 'D_8_A_16L_35L_35R', 'D_17R_A_16L_16R_26', 'D_34R_35L_A_34R_35L', 'D_34L_34R_35L_8_A_34R_35L', 'D_34L_35L_A_34R_35L_35R', 'D_17L_A_16R', 'D_16L_17L_25_A_16R_17L_17R', 'D_16L_A_16R_17L_17R', 'D_17L_8_A_16R_17L_17R', 'D_16L_8_A_16R_17R', 'D_16L_8_A_16R_17L_17R', 'D_16L_17L_8_A_16R_17R', 'D_25_34L_34R_8_A_35L_35R', 'D_16R_A_16L_17L_17R', 'D_16R_8_A_16L_17R', 'D_25_34R_A_34R_35L_35R', 'D_34L_35L_8_A_35L_35R', 'D_34L_A_7', 'D_34L_34R_A_35L_35R_7', 'D_17L_A_16R_17L', 'D_34L_35L_8_A_34R_35R', 'D_17L_8_A_17R', 'D_17L_25_8_A_16L_16R_17L_17R', 'D_16L_25_A_16L_16R_17L_17R', 'D_16L_25_A_16L_16R_17R', 'D_16L_17L_25_8_A_16R_17R', 'D_16L_17L_8_A_16R_17L_17R', 'D_16L_A_16R_17R', 'D_17L_A_16L_16R_17L', 'D_17L_25_8_A_16R_17L_17R', 'D_17L_17R_8_A_16R_17R_7', 'D_25_8_A_35L_35R', 'D_34L_8_A_34L_35L_35R', 'D_8_A_34L_35L_35R', 'D_25_34L_8_A_34L_35L_35R', 'D_25_8_A_16R_35L_35R', 'D_17L_17R_25_8_A_16R_17R', 'D_17L_25_A_16R_17L_17R', 'D_34L_8_A_35L', 'D_25_34L_8_A_35L_35R_7', 'D_17L_17R_25_A_16R_26', 'D_25_A_25_26', 'D_17L_25_A_16R_26', 'D_34L_8_A_35L_35R_7', 'D_17L_A_17R', 'D_17L_8_A_16R_17R_35R_7', 'D_17L_8_A_16L_17R_7', 'D_8_A_35L_35R', 'D_34L_8_A_35R', 'D_17L_8_A_16R_17L', 'D_34L_8_A_7', 'D_25_8_A_34L_35L_35R', 'D_17L_8_A_16R_7', 'D_25_34L_8_A_26_35L_35R', 'D_17R_25_8_A_16R_17R', 'D_34L_A_35L_7', 'D_34L_8_A_35L_7', 'D_25_34L_8_A_35L', 'D_25_34L_A_26_35L', 'D_17L_A_16R_17R', 'D_25_A_16R_17L_17R', 'D_17L_8_A_7_8', 'D_17L_17R_A_7_8', 'D_17L_A_16R_17R_7', 'D_25_34L_A_26_35R', 'D_25_8_A_16R_17R', 'D_17L_25_A_26', 'D_25_A_26', 'D_17L_25_A_16R_17R', 'D_17L_17R_8_A_17R', 'D_35L_8_A_35L_35R', 'D_35L_8_A_35L', 'D_34L_35L_8_A_35L', 'D_17R_8_A_16R_17R_7', 'D_17L_25_A_16R_17R_7', 'D_17L_17R_8_A_16R', 'D_34L_8_A_35R_7', 'D_17L_8_A_7', 'D_17R_A_16R', 'D_8_A_34L_35L', 'D_34L_A_35L_35R_7', 'D_17L_17R_A_17R', 'D_34L_A_26_35L_35R', 'D_17L_8_A_16L_16R_7', 'D_17L_A_16R_26', 'D_17L_25_A_16L_16R_26', 'D_17R_A_16R_26', 'D_25_8_A_35L_35R_7', 'D_17L_25_8_A_16R_26', 'D_17L_17R_A_26_7', 'D_25_26_34L_A_35L_35R', 'D_8_A_35R', 'D_34L_35L_A_35L_35R', 'D_17L_17R_A_16R', 'D_35L_A_35R', 'D_17L_A_17L_17R', 'D_17R_8_A_16R', 'D_34L_8_A_26_35L_35R', 'D_25_A_26_35L_35R', 'D_25_8_A_16R_17R_7', 'D_17L_A_16R_17R_26', 'D_26_34L_A_35L_35R', 'D_17L_25_A_16R_17R_26', 'D_17L_25_34L_A_26', 'D_25_A_16R_17R', 'D_17L_17R_25_A_16R_17R', 'D_8_A_16R_17L', 'D_34R_A_34L_35R', 'D_34R_8_A_34L_35R', 'D_25_34L_34R_8_A_35L_35R_7', 'D_17L_8_A_16L_16R_17L', 'D_34R_8_A_34L_35L', 'D_34R_8_A_34L_35L_35R', 'D_34R_8_A_35L_35R', 'D_25_34R_8_A_34L_35L_35R', 'D_34R_8_A_35R', 'D_34L_A_26', 'D_17R_8_A_16L_16R_17L_17R', 'D_25_34L_A_26_34R_35L', 'D_34R_A_34L_35L_35R', 'D_17R_25_A_16L_16R_26', 'D_25_34L_A_16L_26_35L_35R', 'D_34R_8_A_35L_35R_7', 'D_16L_25_8_A_16R_17R']\n",
            "DepartureOutput:\n",
            "\t\n",
            "['25', '34L', '8', '34R', '17R', '17L', '35L', '16L', '16R', '26']\n",
            "ArrivalOutput:\n",
            "\t\n",
            "['34R', '35L', '35R', '16L', '16R', '17R', '26', '7', '17L', '34L', '25', '8']\n",
            "dfw\n",
            "ConfigOutput:\n",
            "\t\n",
            "['D_17R_18L_A_13R_17C_17L_18L', 'D_17R_18L_A_17C_17R_18L', 'D_35L_36R_A_35C_35L_36R', 'D_31L_35C_35L_36R_A_31R_35C_35R_36L', 'D_31L_35C_35L_36R_A_31R_35C_35R_36R', 'D_35C_35L_36R_A_35C_36R', 'D_31L_35L_36R_A_31R_35C_35R_36R', 'D_17R_18L_A_17R_18L', 'D_17R_18L_A_13R_17C_17L', 'D_17R_18L_A_17L_17R_18L', 'D_18L_A_17L_18L', 'D_17R_18L_A_17C_17R_18L_18R', 'D_17R_A_17C_17R', 'D_17R_A_17C_17R_18L', 'D_17R_A_17R', 'D_35L_36R_A_31R_35C_35R_36R', 'D_35L_A_35L', 'D_35L_A_35C', 'D_35L_36R_A_31R_35C_35R', 'D_35L_36R_A_35L_36R', 'D_35C_35L_36R_A_35C_35L_36R', 'D_31L_35L_36R_A_31R_35C_35R', 'D_17R_18L_A_17C', 'D_17R_A_17C', 'D_17R_A_17R_18L', 'D_17R_18L_A_17C_17L_17R_18L', 'D_17R_A_17L_17R', 'D_17R_18L_A_13R_17C_17L_18R', 'D_17R_18L_A_17C_18L', 'D_17R_18L_A_17C_17L_18L', 'D_36R_A_35C_36R', 'D_35L_36R_A_35C_35L_36L_36R', 'D_35L_A_35C_35L', 'D_17R_18L_A_13R_17L_18L', 'D_17R_A_17C_17L', 'D_17C_A_17L_17R_18L', 'D_17R_18L_A_17C_17L', 'D_17R_A_17C_17L_18L', 'D_17R_18L_A_17C_17R', 'D_35L_36R_A_35C_35L_36L', 'D_31L_35L_36R_A_13R_35C_35R_36R', 'D_35L_36R_A_31R_35C_35R_36L', 'D_18L_A_13R_18L', 'D_17C_17R_18L_A_13R_17C_17R_18L', 'D_17R_18R_A_17C_17R_18L', 'D_17R_18L_A_13R_17C', 'D_35L_36R_A_36R', 'D_35L_36R_A_35C_36R', 'D_31L_35L_A_31R_35C_35R_36R', 'D_35C_A_35C', 'D_17C_A_17C', 'D_17C_18L_A_17C_18L', 'D_17R_A_13R_17C_17L_18L', 'D_17C_18L_A_17C_17L', 'D_17C_18L_A_13R_17C_17L', 'D_35L_36R_A_35C_35R_36R', 'D_35L_36R_A_35L_35R_36R', 'D_35L_36R_A_35R_36R', 'D_17R_A_17C_17L_17R', 'D_31L_35L_36R_A_35C_35R_36R', 'D_17C_17R_A_17C_17R', 'D_17C_17R_18L_A_17C_17R_18L', 'D_17R_18L_A_17C_17L_18R', 'D_35L_36R_A_35C_35R_36L', 'D_31L_35L_36R_A_31R_35C_35R_36L', 'D_17R_18L_A_13R_17C_18L', 'D_18L_A_18L', 'D_17R_18L_A_18L', 'D_35L_36R_A_35C_35L_35R_36R', 'D_35L_36R_A_35C_35R', 'D_36R_A_31R_35C_35R', 'D_35C_36R_A_35C_36R', 'D_35L_A_31R_35C_35R_36R', 'D_35L_36R_A_35C', 'D_35C_35L_36R_A_31R_35C_35R_36R', 'D_35L_36R_A_35L', 'D_17R_18L_A_17R', 'D_31L_31R_A_31L_31R', 'D_35L_A_35C_35R', 'D_35C_35L_A_35C_35L', 'D_35L_A_31R_35C_35R', 'D_17C_18L_A_17C', 'D_17C_17R_18L_A_13R_17C_17L_18L', 'D_17C_17R_18L_A_17C', 'D_35L_36R_A_31R_35C_36R', 'D_31L_35L_36R_A_31R_35C_36R', 'D_36R_A_36R', 'D_31L_36R_A_36R', 'D_31L_A_36R', 'D_31L_35L_A_35C_35R_36R', 'D_18L_A_13R_17C_17L', 'D_17R_18L_A_13R_17C_17L_17R_18L', 'D_35C_A_35C_36R', 'D_17C_17R_A_17C', 'D_18L_A_17C_18L', 'D_18L_A_17C_17R_18L', 'D_17R_18L_A_13L_17C_17L_18L', 'D_17R_A_13L_17C_17L_18L', 'D_17C_17R_18L_A_17C_18L', 'D_17R_A_13R_17C_18L', 'D_31R_A_31L', 'D_35L_A_31L_31R_35C_35R', 'D_36R_A_35L_36R', 'D_35L_A_35C_35L_35R', 'D_35C_A_35C_35R', 'D_17C_A_17C_17L', 'D_17C_18L_A_17C_17L_18L', 'D_17C_17R_18L_A_17C_17L_18L', 'D_17C_17R_18L_A_13R_17C_17L', 'D_35L_36R_A_31R_35C', 'D_35C_35L_36R_A_31R_35C_36R', 'D_35C_36R_A_35C', 'D_17R_18L_A_13R_17R_18L', 'D_17R_A_13R_17C_17L', 'D_17R_A_18L', 'D_35L_A_35C_35L_36R', 'D_17R_18L_A_13R_17C_17L_18L_18R', 'D_17R_18L_A_17C_18R', 'D_17L_18L_A_17L_18L', 'D_17L_17R_18L_A_17L_17R_18L', 'D_17R_18L_A_17C_17L_17R_18L_18R', 'D_17C_18L_A_17C_18R', 'D_17C_17R_18L_A_17C_18R', 'D_17C_18L_A_13R_17C_17L_18R', 'D_17C_18L_A_17C_18L_18R', 'D_35L_36R_A_35C_36L_36R', 'D_35C_36R_A_31R_35C_35R_36R', 'D_35L_36R_A_35C_35L', 'D_17C_17R_18L_A_13R_17C_17R_18L_18R', 'D_17R_18L_A_17R_18L_18R', 'D_17R_18L_A_17C_18L_18R', 'D_35L_36R_A_35C_35L_35R_36L_36R', 'D_35C_36R_A_31R_35C_35R_36L', 'D_35C_A_31R_35C', 'D_35C_A_31R_35C_35R', 'D_18L_A_17C_18R', 'D_35L_36R_A_31R_35C_36L', 'D_17C_17R_18L_18R_A_17C_18R', 'D_17C_18L_A_17C_17L_18L_18R', 'D_17C_18L_18R_A_17C_17L_18L_18R', 'D_17C_17R_18L_A_17C_18L_18R', 'D_17R_18L_A_13R_17C_18R', 'D_17R_A_13R_17C_17R', 'D_17R_18R_A_13R_17C_17R_18R', 'D_17R_18L_A_13R_17C_17R_18L_18R', 'D_31L_35L_36R_A_35C_35R_36L', 'D_17C_17R_18L_18R_A_17C_17R_18L_18R', 'D_17R_18L_A_17C_17L_18L_18R', 'D_35C_35L_36R_A_35C_35R', 'D_35C_36R_A_35C_35R', 'D_35R_A_35R', 'D_35C_36R_A_35C_35R_36R', 'D_17R_A_17C_17R_18R', 'D_18L_A_17C_17L_18L', 'D_17C_18L_18R_A_17C_18R', 'D_17C_18R_A_17C_18R', 'D_17R_18L_A_17L_18R', 'D_36R_A_35R_36R', 'D_17C_17R_18L_A_17C_17L', 'D_17C_18L_A_17C_17L_18R', 'D_17R_18L_A_13R_17C_17L_17R_18R', 'D_17R_18L_A_17C_17L_17R', 'D_35L_36R_A_35C_36L', 'D_35L_A_35C_36L', 'D_35L_A_35C_35L_36L', 'D_35L_36L_A_35C_35L_36L', 'D_17R_18L_A_13R_17L_18R', 'D_17R_18R_A_17C_18R', 'D_17R_A_13R_17C_17L_18R', 'D_18L_A_13R_18L_18R', 'D_17R_18L_A_17C_17L_17R_18R', 'D_17R_18L_A_17C_17R_18R', 'D_17C_17R_18L_A_17C_17R_18R', 'D_17R_18L_A_17L_17R_18L_18R', 'D_17R_18R_A_17L_17R_18R', 'D_17R_18R_A_17R_18R', 'D_17R_18R_A_17C_17R_18R', 'D_17R_18L_18R_A_17C_17R_18L_18R', 'D_17R_A_17C_18R', 'D_35L_36R_A_17C_18L', 'D_18L_A_18L_18R', 'D_17R_18L_A_18L_18R', 'D_36R_A_35R_36L_36R', 'D_17R_18L_A_17R_18R', 'D_17C_17R_18L_A_17C_17L_18R', 'D_31L_35L_A_31R_35C_35R_36L', 'D_35L_36L_A_31R_35C_35R_36L', 'D_17C_17R_18L_A_13R_17C_17L_18R', 'D_17C_17R_A_17R_18R', 'D_17C_17R_A_17R_18L_18R', 'D_17C_17R_A_17C_17R_18L_18R', 'D_17C_17R_18R_A_17C_18R', 'D_17C_18L_A_17C_17R_18L', 'D_17C_17R_18L_A_17C_17R_18L_18R', 'D_17C_17R_A_17C_17R_18R', 'D_17C_17R_18L_18R_A_13R_17C_17L_18R', 'D_17C_17R_18L_18R_A_13R_17C_17L', 'D_17C_17R_18L_18R_A_17C_17L_17R_18L_18R', 'D_18L_18R_A_18L_18R', 'D_17R_18L_18R_A_17R_18L_18R', 'D_17C_17R_18L_18R_A_17C_17L_18R', 'D_18L_A_17C_18L_18R', 'D_17R_18L_18R_A_17C_17R_18R', 'D_17R_18L_A_13R_17C_17L_17R_18L_18R', 'D_35L_36R_A_13R_35C_35R_36L', 'D_17R_18L_18R_A_17C_18L_18R', 'D_35L_A_35L_35R', 'D_35L_36R_A_35L_36L_36R', 'D_17R_18L_A_17L_17R_18R', 'D_35L_A_35R_36L', 'D_35L_36L_A_35R_36L', 'D_35L_36L_A_35C_36L', 'D_35C_35L_36R_A_35C_35L_36L_36R', 'D_35C_35L_36L_36R_A_35C_35L_36L_36R', 'D_36R_A_36L_36R', 'D_35L_36L_36R_A_35L_36L_36R', 'D_17C_17R_18R_A_17C_17R_18R', 'D_35L_A_35L_36L', 'D_35L_36R_A_35C_35L_35R_36L', 'D_35L_36L_A_35C_35L_35R_36L', 'D_17R_18R_A_13R_17C_17L_18R']\n",
            "DepartureOutput:\n",
            "\t\n",
            "['17R', '18L', '35L', '36R', '31L', '35C', '17C', '18R', '31R', '17L', '35R', '36L']\n",
            "ArrivalOutput:\n",
            "\t\n",
            "['13R', '17C', '17L', '18L', '17R', '35C', '35L', '36R', '31R', '35R', '36L', '18R', '31L', '13L']\n",
            "jfk\n",
            "ConfigOutput:\n",
            "\t\n",
            "['D_22R_A_22L_22R', 'D_31L_A_31L_31R', 'D_31L_A_31L', 'D_4L_A_4L_4R', 'D_22R_A_22L', 'D_31L_A_4R', 'D_31L_31R_A_31L_31R', 'D_13R_A_13L', 'D_13L_13R_A_13L', 'D_13L_22R_A_22L_22R', 'D_31R_A_31R', 'D_31L_A_31R', 'D_4L_A_4L', 'D_4L_A_4R', 'D_4R_A_4R', 'D_4L_A_31L_31R', 'D_22R_A_31L_31R', 'D_4R_A_4L_4R', 'D_31R_A_31L_31R', 'D_22L_A_22L_22R', 'D_13R_A_13L_22L', 'D_31L_A_22L', 'D_22R_A_22R', 'D_13L_A_22L', 'D_13R_A_22L', 'D_22R_31L_A_22L_22R', 'D_22R_31L_A_22L', 'D_31L_4L_A_4L_4R', 'D_13R_A_31L', 'D_22R_4L_A_13L_22L', 'D_22R_4L_A_22L_22R', 'D_22R_A_22L_31L', 'D_31L_A_22R_31L_31R', 'D_13R_A_13L_22L_22R', 'D_4L_A_22R_4L_4R', 'D_13R_A_4R', 'D_13R_A_13R', 'D_4L_A_31R_4L_4R', 'D_31L_4L_A_31R_4L_4R']\n",
            "DepartureOutput:\n",
            "\t\n",
            "['22R', '31L', '4L', '31R', '13R', '13L', '4R', '22L']\n",
            "ArrivalOutput:\n",
            "\t\n",
            "['22L', '22R', '31L', '31R', '4L', '4R', '13L', '13R']\n",
            "mem\n",
            "ConfigOutput:\n",
            "\t\n",
            "['D_18C_18L_18R_A_18L_18R_27', 'D_27_36C_36L_36R_A_27_36L_36R', 'D_36C_36L_36R_A_36C', 'D_27_36C_36L_36R_A_27_36C_36L_36R', 'D_27_36C_A_27_36R', 'D_18C_18L_18R_27_A_18L_18R_27', 'D_36C_36L_36R_A_27_36L_36R', 'D_36C_A_27_36L_36R', 'D_36C_A_36L_36R_9', 'D_18C_18L_18R_27_A_27', 'D_18C_18L_18R_A_18C', 'D_18C_A_18L_18R_27', 'D_27_36L_36R_A_27_36L_36R', 'D_18L_18R_27_A_18L_18R_27', 'D_18L_18R_A_18L_18R', 'D_18L_18R_A_18L_18R_27', 'D_36C_36L_36R_A_36L_36R_9', 'D_18C_18L_18R_A_18C_18L_18R', 'D_18C_18L_18R_A_18L_18R', 'D_18C_18L_18R_27_A_18C_18L_18R_27', 'D_18C_18L_18R_A_18C_18L_18R_27', 'D_18C_18R_A_18L_27', 'D_18L_A_18C_18R', 'D_36C_36L_36R_A_27_36C', 'D_36C_A_36L_36R', 'D_36L_36R_A_27_36L_36R', 'D_36C_36L_36R_A_36L_36R', 'D_27_36C_36R_A_27_36C_36R', 'D_36C_A_36C_36L_9', 'D_27_36C_36L_A_27_36C_36L', 'D_36C_36L_9_A_36C_36L_9', 'D_18C_18R_27_A_18C_18R_27', 'D_18C_18R_A_18C_18R', 'D_18C_18L_A_18L_27', 'D_27_36C_36L_36R_A_36C', 'D_27_36C_36R_A_27_36R', 'D_18C_A_18L', 'D_18C_A_18L_18R', 'D_36C_36L_36R_9_A_36L_36R_9', 'D_36C_36L_36R_A_36C_36L_36R', 'D_36C_36R_A_27_36R', 'D_36R_9_A_36R_9', 'D_36C_36R_9_A_36R_9', 'D_36C_9_A_36L_36R_9', 'D_36R_A_36C_36L', 'D_36C_36L_A_36C_36L', 'D_36L_9_A_36L_9', 'D_36C_36L_A_36L', 'D_36L_A_36L', 'D_27_36C_36L_A_27_36L', 'D_27_36L_A_27_36L', 'D_27_36C_A_27_36C', 'D_27_36C_36L_A_27_36L_36R', 'D_27_36C_A_27_36L_36R', 'D_36C_36L_A_27_36C_36L', 'D_18C_18R_A_18C', 'D_36R_A_27_36C_36L', 'D_36R_A_36C_36L_9', 'D_36C_36L_36R_9_A_36C_36L_9', 'D_36C_36L_36R_A_36C_36L', 'D_27_36C_36L_36R_A_27', 'D_27_A_27_36L_36R', 'D_18C_18L_18R_27_A_18C_27', 'D_18C_18L_18R_27_A_18C', 'D_18C_18L_18R_A_18C_18R', 'D_18C_18L_18R_A_18C_27', 'D_18C_18L_A_18L', 'D_18C_18L_18R_A_27', 'D_18L_18R_A_18C', 'D_36L_36R_A_36L_36R', 'D_36C_A_36R', 'D_36C_36R_A_36C', 'D_36L_36R_A_36R', 'D_36C_36L_A_36C', 'D_36L_36R_A_36L', 'D_36C_36L_36R_A_36R', 'D_36C_A_36C', 'D_36C_A_36C_36L', 'D_36L_36R_A_36C', 'D_36R_A_36R', 'D_36R_A_36C', 'D_36C_36R_A_36L_36R', 'D_18C_18R_A_18C_18R_27', 'D_18C_A_18C', 'D_36C_9_A_36R_9', 'D_18L_18R_A_27_36L_36R', 'D_36L_36R_9_A_36L_36R_9', 'D_36C_A_27_36R', 'D_36R_A_36L_36R', 'D_18C_A_27_36L_36R', 'D_27_36C_36L_36R_A_36L_36R', 'D_18C_A_18C_18R_27', 'D_18C_18R_A_18L_18R_27', 'D_36C_A_36C_36R', 'D_27_36C_36L_36R_A_27_36C_36L', 'D_18C_18L_18R_A_27_36L_36R', 'D_36C_36L_36R_A_27_36C_36L_36R', 'D_18L_18R_A_18L_27', 'D_27_36L_36R_A_27_36C_36L_36R', 'D_36C_36L_36R_A_18C_36C', 'D_36C_36L_36R_9_A_36C_36L_36R_9', 'D_36C_36L_36R_A_18L_18R_27', 'D_36C_36L_A_27_36C_36R', 'D_18L_18R_27_A_27', 'D_18L_A_18L_18R_27', 'D_18L_A_18L_27', 'D_36C_36L_36R_A_36C_36L_36R_9', 'D_18C_18L_18R_A_18R_27', 'D_18C_A_18L_27', 'D_36C_A_27_36C_36L', 'D_36C_A_27_36C_36L_36R', 'D_36C_A_36C_36L_36R_9', 'D_27_36C_36L_A_27_36C_36R', 'D_18C_18R_27_A_18C_18L_27', 'D_27_36R_A_27_36R', 'D_18C_18L_18R_A_18C_18R_27', 'D_36C_A_18L_18R_27', 'D_36C_36R_A_36R', 'D_18C_18L_A_18C', 'D_27_36C_36L_36R_A_27_36C', 'D_18R_A_18R', 'D_18C_18L_A_18C_18L_27', 'D_18L_18R_A_18C_18L_27', 'D_18C_18R_A_18R_27', 'D_27_36C_36L_36R_A_27_36C_36R', 'D_18C_18L_18R_27_A_36C_36L_36R', 'D_18C_18L_27_A_18L_27', 'D_36C_36L_36R_A_36L', 'D_18C_18L_18R_A_36L_36R', 'D_27_36C_36L_36R_A_36C_36L_9', 'D_9_A_36C_36L_9', 'D_9_A_36C_36L', 'D_18C_18L_18R_27_A_18L_18R']\n",
            "DepartureOutput:\n",
            "\t\n",
            "['18C', '18L', '18R', '27', '36C', '36L', '36R', '9']\n",
            "ArrivalOutput:\n",
            "\t\n",
            "['18L', '18R', '27', '36L', '36R', '36C', '9', '18C']\n",
            "mia\n",
            "ConfigOutput:\n",
            "\t\n",
            "['D_8L_8R_9_A_8L_8R_9', 'D_8L_9_A_8L_9', 'D_8R_9_A_8R_9', 'D_8L_8R_A_8L_8R', 'D_26L_26R_27_A_26L_26R_27', 'D_26L_26R_27_A_26L_26R_27_8L', 'D_26L_26R_A_26L_26R', 'D_8L_8R_A_26R_8L_8R', 'D_8L_8R_A_8L_8R_9', 'D_8L_8R_9_A_8L_8R', 'D_12_8L_8R_9_A_12_8L_8R_9', 'D_12_8L_9_A_12_8L_9', 'D_12_8L_8R_9_A_8L_8R_9', 'D_26L_26R_27_30_A_26L_26R_27_30', 'D_26L_26R_27_30_A_26L_27_30', 'D_12_8R_9_A_12_8R_9', 'D_8L_8R_9_A_12_8L_8R_9', 'D_26L_26R_30_A_26L_26R_30', 'D_26L_27_A_26L_27', 'D_12_8R_9_A_12_8L_8R_9', 'D_12_8R_9_A_8R_9', 'D_26L_27_30_A_26L_27_30', 'D_26L_26R_27_A_26L_26R_27_30', 'D_26L_26R_27_30_A_26R_27_30', 'D_26L_26R_27_A_26R_27', 'D_26L_26R_A_26L_26R_30', 'D_26L_27_A_26L_27_30', 'D_26L_26R_A_26L_26R_27', 'D_26L_26R_30_A_26L_26R_27_30', 'D_26L_26R_27_30_A_26L_26R_27', 'D_26L_26R_27_30_A_26L_27', 'D_26R_27_30_A_26R_27_30', 'D_26L_26R_27_A_26L_26R', 'D_26L_27_A_26L', 'D_26L_26R_27_30_A_12_8L_8R_9', 'D_12_8L_9_A_12_8R_9', 'D_26L_26R_A_26L_27', 'D_26L_26R_27_30_A_27_30', 'D_27_30_A_30', 'D_26L_27_30_A_26L_30', 'D_26L_26R_27_30_A_26L_26R_30', 'D_27_30_A_26L_30', 'D_26L_26R_27_30_A_26L_26R', 'D_27_30_A_27_30', 'D_26L_27_A_26L_26R_27', 'D_12_8L_8R_A_12_8L_8R', 'D_26L_27_30_A_26L_26R_27_30', 'D_12_8R_A_12_8R', 'D_12_8L_8R_9_A_12_8L_8R', 'D_8L_8R_A_12_8L_8R_9', 'D_12_9_A_12_9', 'D_8R_9_A_12_8L_8R_9', 'D_12_8L_9_A_12_9', 'D_26L_26R_27_30_A_26L_26R_27_30_8L', 'D_12_9_A_12_8L_9', 'D_12_9_A_12_8L_8R_9', 'D_8R_9_A_8L_8R_9', 'D_26R_27_A_26L_27', 'D_26L_26R_27_A_26L_27', 'D_12_8L_8R_9_A_8R_9', 'D_8L_9_A_12_8L_8R_9', 'D_26R_27_A_26R_27', 'D_12_8L_8R_9_A_12_8R_9', 'D_12_8L_8R_9_A_8L_9', 'D_12_8R_9_A_8L_8R_9', 'D_26L_27_A_26L_26R_27_30', 'D_27_A_27_30', 'D_12_8L_8R_A_12_8L_8R_9', 'D_12_8L_8R_9_A_12_8L_9', 'D_8L_8R_A_8R', 'D_8L_9_A_9', 'D_8L_8R_9_A_12_8R_9', 'D_8L_8R_9_A_8R_9', 'D_8L_8R_9_A_9', 'D_8R_9_A_9', 'D_12_8L_8R_9_A_12_9', 'D_12_8L_8R_A_12_8R', 'D_8R_9_A_8R', 'D_8L_8R_9_A_8R', 'D_12_8L_8R_9_A_12_8R', 'D_12_8R_9_A_12_9', 'D_12_8R_A_12', 'D_12_8L_8R_9_A_9', 'D_8R_9_A_12_8R_9', 'D_26L_26R_27_A_26L_27_30', 'D_26L_26R_A_26L', 'D_26L_26R_27_A_26L', 'D_26L_27_A_26R', 'D_26L_27_A_27', 'D_26R_27_A_27', 'D_8L_8R_A_12_8R_9', 'D_12_8R_9_A_12_8R', 'D_26L_27_30_A_30']\n",
            "DepartureOutput:\n",
            "\t\n",
            "['8L', '8R', '9', '26L', '26R', '27', '12', '30']\n",
            "ArrivalOutput:\n",
            "\t\n",
            "['8L', '8R', '9', '26L', '26R', '27', '12', '30']\n",
            "ord\n",
            "ConfigOutput:\n",
            "\t\n",
            "['D_22L_28R_A_28C', 'D_28R_A_28C', 'D_28C_A_28C', 'D_28R_A_28R', 'D_22L_28R_A_27L_27R_28C', 'D_27L_28R_A_28C', 'D_28R_A_27L_27R_28C', 'D_27L_28R_A_27L_27R_28C', 'D_22L_28R_A_27L_28C', 'D_22L_28C_A_28C', 'D_22L_28C_A_22R_28C', 'D_22L_28R_A_22R_28R', 'D_10C_22L_A_22L', 'D_22L_A_22L', 'D_10C_A_10C', 'D_22L_A_28C', 'D_22L_A_27L_27R_28C', 'D_10C_22L_A_10C', 'D_22L_27L_28R_A_28C', 'D_22L_28R_A_28R', 'D_27C_28R_9C_A_27C_28C_9C', 'D_22L_28R_A_22L_28R', 'D_22L_28R_A_27R_28C', 'D_22L_A_22R', 'D_28R_A_22R_28R', 'D_22L_A_10C', 'D_22L_28R_A_10C_27L_27R_28C', 'D_28R_A_27L', 'D_28R_A_27L_28R', 'D_28C_A_27L_28C', 'D_27L_A_27L', 'D_22L_28C_28R_A_22R_27L_27R_28C', 'D_22L_28C_28R_A_22R_28C', 'D_22L_28R_A_27L', 'D_28C_A_27L', 'D_10L_9R_A_10C', 'D_27L_28R_A_27L_28R', 'D_22L_28R_A_27L_28R', 'D_10L_22L_9R_A_10C', 'D_10L_9R_A_10C_10R_9L', 'D_10L_9R_A_28C', 'D_10L_9R_A_10C_9L', 'D_9R_A_10L', 'D_10L_A_10L', 'D_27L_A_28R', 'D_22L_28C_A_27L_28C', 'D_22L_28C_A_22L_22R', 'D_22L_28C_A_22R', 'D_28C_A_22R', 'D_22L_28R_A_27L_27R', 'D_4L_A_28C', 'D_4L_A_4R', 'D_4L_A_10C_10R_9L', 'D_10L_4L_A_10C', 'D_4L_A_10L', 'D_10L_4L_A_10L_4R', 'D_10C_A_10L_4R', 'D_10C_4L_A_10L_4R', 'D_10L_A_10L_4R', 'D_10L_9R_A_10C_10R', 'D_10L_9R_A_10C_10R_27L_9L', 'D_10L_A_10C', 'D_10L_9R_A_10C_9R', 'D_10L_9R_A_10C_9L_9R', 'D_22L_9R_A_10C', 'D_10L_22L_9R_A_10C_9L_9R', 'D_22L_27L_28R_A_27L_27R_28C', 'D_22L_27L_28R_A_27R_28C', 'D_28R_A_27R_28C', 'D_28R_4L_A_27R_28C', 'D_28R_4L_A_28C', 'D_28R_A_28C_28R', 'D_28R_4L_A_4R', 'D_28C_4L_A_28C_4R', 'D_28R_4L_A_28R_4R', 'D_22L_A_22R_28C', 'D_28C_A_22R_28C', 'D_22L_28C_A_22R_28R', 'D_28C_A_22L_22R', 'D_22L_A_22L_22R', 'D_10L_4L_A_10C_9L', 'D_10C_4L_A_10C_4R', 'D_10L_4L_A_10C_4R', 'D_27L_A_28C', 'D_10L_9R_A_10L', 'D_9R_A_9R', 'D_10L_9R_A_10C_10R_9R', 'D_9R_A_10C', 'D_22L_28R_A_22R', 'D_22L_9R_A_10C_9L', 'D_10L_22L_9R_A_10C_9L', 'D_10L_A_10C_10R_9L', 'D_4L_A_10C', 'D_10L_4L_A_10L', 'D_22L_9R_A_10C_10R_9L', 'D_10L_4L_9R_A_10C', 'D_10C_4L_A_10C', 'D_4L_A_28C_4R', 'D_28R_A_27L_28C', 'D_22L_A_22R_28R', 'D_22L_A_28R', 'D_10L_9R_A_10L_9L', 'D_10L_A_10L_9L', 'D_10C_9R_A_10C_9L', 'D_28R_4L_A_28R', 'D_28C_4L_A_4R', 'D_10L_22L_9R_A_10C_9R', 'D_10L_A_10C_9L', 'D_9R_A_10C_10R_9L', 'D_10C_9R_A_10C', 'D_22L_28R_A_22L_22R_28R', 'D_28R_A_22R_28C', 'D_10L_22L_A_10C_9L_9R', 'D_22L_9R_A_10L_9L', 'D_27L_28C_A_27L_28C', 'D_22L_9R_A_10C_9L_9R', 'D_10L_4L_A_4R', 'D_9R_A_10C_9L', 'D_9R_A_9L', 'D_10C_9R_A_10C_9L_9R', 'D_10C_10L_9R_A_10C_9L_9R', 'D_10L_9R_A_9L', 'D_10C_A_10C_9L', 'D_4R_A_4R', 'D_10L_A_4R', 'D_10C_A_4R', 'D_9R_A_10C_9R', 'D_28R_A_27R_28R', 'D_28R_A_27C_27R_28R', 'D_28R_A_27C_27R_28C', 'D_27C_28R_A_28C', 'D_27C_28R_A_27C_27R_28C', 'D_22L_27C_A_28R', 'D_22L_28R_A_27C_27R_28C', 'D_22L_28R_A_27C_28C', 'D_22L_28R_A_27C_27R', 'D_10L_9C_A_10C_10R_9L', 'D_10L_22L_A_10C_10R_9L', 'D_10L_22L_9C_A_10C_10R_9L', 'D_22L_9C_A_10C', 'D_22L_9C_A_10L_9L', 'D_10L_22L_A_10C_9L', 'D_22L_9C_A_10C_9L', 'D_22L_28R_A_27R_28R', 'D_28R_A_27C', 'D_28R_A_27C_28C', 'D_22L_A_27C_27R_28C', 'D_22L_27C_A_27C_27R_28R', 'D_22L_27C_28R_A_28C', 'D_22L_28C_A_27C_27R_28C', 'D_22L_A_27R_28C', 'D_22L_A_27C_28C', 'D_22L_28R_A_27R', 'D_10L_A_10C_10R', 'D_10L_9C_A_10R_9L', 'D_10L_9C_A_10C', 'D_22L_27C_28R_A_28R', 'D_27C_A_28R', 'D_27C_28R_A_28R', 'D_27C_28C_A_28C', 'D_22L_28C_28R_A_28C', 'D_22L_28R_A_27C_27R_28R', 'D_22L_27C_A_27R_28C', 'D_27C_A_27R_28C', 'D_22L_27C_A_27C_27R_28C', 'D_28C_28R_A_28C', 'D_27C_28R_A_27R_28C', 'D_9C_A_10C', 'D_9C_A_10C_9L', 'D_9C_A_10L_9L', 'D_10L_9C_A_10C_9L', 'D_9C_A_10L', 'D_27C_A_27C', 'D_22L_27C_A_27C', 'D_22L_28R_A_27C', 'D_9C_A_9C', 'D_10L_9C_A_9L', 'D_10L_A_10C_9C_9L', 'D_9C_A_10C_10R_9L', 'D_10L_9C_A_10C_10R', 'D_10L_9C_A_10R', 'D_22L_27C_A_28C', 'D_22L_28R_A_10C_10R_9L', 'D_10L_22L_9C_A_10C_9L', 'D_22L_27C_28R_A_27C_27R', 'D_10L_9C_A_10L', 'D_10C_9C_A_10C', 'D_22L_9C_A_9C', 'D_10L_22L_9C_A_10L_9C', 'D_9C_A_10L_9C', 'D_22L_27C_28R_A_27C_27R_28C', 'D_22L_27C_28R_A_27R_28C', 'D_10L_9C_A_10C_28C_9L', 'D_10L_4L_9C_A_10C_10R_9L', 'D_10L_4L_A_10C_10R', 'D_10L_9C_A_10C_10L_10R_9L', 'D_9C_A_10C_10L_10R_9L', 'D_9C_A_10L_10R_9L', 'D_10L_9C_A_10C_9C_9L', 'D_10C_9C_A_10C_9L', 'D_10L_9C_A_10L_9L', 'D_10L_4L_A_10C_10R_9L', 'D_4L_9C_A_10C', 'D_4L_A_10L_4R', 'D_10L_22L_A_10L', 'D_10L_22L_A_10C', 'D_27C_A_28C', 'D_22L_9C_A_10C_10R_9L', 'D_10L_22L_9C_A_10L', 'D_10L_22L_9C_A_10C', 'D_27C_28R_A_27C', 'D_27C_28C_A_22L_22R', 'D_27C_28C_A_22L', 'D_28C_A_22L', 'D_27C_A_22L', 'D_27C_A_22R', 'D_27C_28C_A_22R_28C', 'D_22L_27C_28C_A_22L_28C', 'D_22L_27C_28C_A_28C', 'D_28R_A_22L', 'D_10C_9C_A_10C_10R_9L', 'D_22L_28R_A_27C_27L_28C', 'D_22L_28R_A_27C_27R_28C_28L', 'D_22L_28R_A_27C_28R', 'D_22L_28C_A_27C', 'D_28C_A_27C', 'D_22L_9C_A_10L', 'D_10C_4L_9C_A_10C', 'D_4L_A_9C', 'D_10L_22L_4L_A_10L', 'D_22L_4L_A_4R', 'D_28R_A_27C_28R', 'D_10L_22L_4L_9C_A_10C', 'D_10L_9C_A_9C', 'D_10L_22L_4L_A_10C', 'D_10L_4L_A_10C_10R_9C', 'D_28R_4L_A_27C_28C', 'D_10L_4L_9C_A_10C_10R', 'D_10L_4L_9C_A_10C', 'D_10C_22L_9C_A_10C', 'D_22L_4L_A_10C', 'D_10L_A_10C_9C', 'D_27C_28R_A_27C_28R', 'D_10C_9C_A_10C_9C', 'D_10L_9C_A_10C_9C', 'D_10L_22L_A_9C', 'D_10L_22L_9C_A_9C', 'D_10L_A_9C', 'D_9C_A_4R', 'D_22L_27C_28C_A_27C_28C', 'D_22L_27C_28C_A_27C', 'D_10L_9C_A_10R_9C_9L', 'D_27C_28R_A_27C_28C', 'D_22L_27C_28R_A_27C_28C', 'D_22L_27C_28R_A_27C', 'D_22L_27C_28R_A_27C_28R', 'D_22L_28C_28R_A_22R', 'D_10C_A_22L', 'D_22L_27C_A_22L_27C', 'D_22L_A_27C', 'D_10L_9C_A_10L_9C', 'D_10L_9C_A_10L_9C_9L', 'D_27C_28C_A_27C', 'D_27C_28C_A_27C_28C', 'D_27C_A_27C_28C', 'D_4L_9C_A_10L', 'D_4L_9C_A_9C', 'D_4L_9C_A_10L_9C', 'D_10L_22L_9C_A_10C_9C', 'D_9C_A_10C_9C', 'D_22L_27C_A_9C', 'D_10C_10L_A_10C', 'D_22L_27C_A_27C_28C', 'D_10C_A_9C', 'D_10C_22L_A_9C', 'D_27C_A_27C_28R', 'D_22L_28C_A_27C_27R', 'D_22L_28R_A_27C_27L_27R', 'D_10L_4L_9C_A_10C_9C', 'D_10L_22L_9C_A_10C_10R', 'D_28C_28R_A_27C', 'D_22L_27C_A_22L_22R', 'D_22L_28R_A_22L_27C_27R_28C', 'D_10C_9C_A_9C', 'D_28R_A_27C_27R', 'D_10L_9C_A_10C_27R_9L', 'D_4L_A_10C_10R']\n",
            "DepartureOutput:\n",
            "\t\n",
            "['22L', '28R', '28C', '27L', '10C', '27C', '9C', '10L', '9R', '4L', '4R']\n",
            "ArrivalOutput:\n",
            "\t\n",
            "['28C', '28R', '27L', '27R', '22R', '22L', '10C', '27C', '9C', '10R', '9L', '10L', '4R', '9R', '28L']\n",
            "phx\n",
            "ConfigOutput:\n",
            "\t\n",
            "['D_25R_A_25L_26', 'D_7L_A_7R_8', 'D_25R_26_A_25L_26', 'D_7L_A_7R', 'D_7L_7R_A_7R', 'D_25R_A_25L', 'D_25R_A_25L_25R', 'D_7L_A_7L_7R', 'D_7L_7R_A_7L_7R', 'D_7L_8_A_7L_8', 'D_25L_25R_A_25L_25R', 'D_25R_A_26', 'D_7L_7R_8_A_7L_7R_8', 'D_7L_8_A_7R_8', 'D_7L_A_7L_7R_8', 'D_25R_26_A_25R_26', 'D_7L_A_7L_8', 'D_25R_A_25R_26', 'D_25L_26_A_25L_26', 'D_8_A_8', 'D_7L_A_8', 'D_7R_8_A_7R_8', 'D_25R_A_7L_8', 'D_25R_A_25R', 'D_7L_A_7L', 'D_25L_25R_26_A_25L_25R_26', 'D_25R_A_7L', 'D_7R_A_7R_8', 'D_26_A_26', 'D_8_A_7R_8', 'D_7L_7R_8_A_7R_8', 'D_7L_7R_A_7R_8', 'D_25L_25R_A_7L', 'D_26_7L_8_A_7L_8', 'D_7L_7R_A_25L_25R', 'D_26_A_25L_26', 'D_7L_A_25L_26', 'D_7L_8_A_25R_26', 'D_25R_7L_A_7R_8']\n",
            "DepartureOutput:\n",
            "\t\n",
            "['25R', '7L', '26', '7R', '8', '25L']\n",
            "ArrivalOutput:\n",
            "\t\n",
            "['25L', '26', '7R', '8', '25R', '7L']\n",
            "sea\n",
            "ConfigOutput:\n",
            "\t\n",
            "['D_34R_A_34L_34R', 'D_16L_A_16L_16R', 'D_16L_A_16C_16L', 'D_16L_A_16L', 'D_34R_A_34C_34R', 'D_16C_A_16L_16R', 'D_16C_A_16C_16R', 'D_34C_A_34C_34L', 'D_16L_A_16R', 'D_16L_A_16C_16R', 'D_16C_A_16R', 'D_16L_A_16C', 'D_16C_A_16C', 'D_34R_A_34L', 'D_34C_A_34L_34R', 'D_34C_34R_A_34L_34R', 'D_34R_A_34C_34L_34R', 'D_34R_A_34C', 'D_34R_A_34C_34L', 'D_34C_A_34L', 'D_34R_A_34R', 'D_34C_34R_A_34C', 'D_16L_A_16L_16R_34L_34R', 'D_16C_A_16C_16L', 'D_16L_A_16C_16L_16R']\n",
            "DepartureOutput:\n",
            "\t\n",
            "['34R', '16L', '16C', '34C']\n",
            "ArrivalOutput:\n",
            "\t\n",
            "['34L', '34R', '16L', '16R', '16C', '34C']\n"
          ]
        },
        {
          "output_type": "execute_result",
          "data": {
            "text/plain": [
              "\"\\nohe.setInputCols(['airport_config', 'DepartureRunways', 'ArrivalRunways'])\\nohe.setOutputCols([ArptConfigEncoder['mia']['ConfigOutput']\\n                   ,ArptConfigEncoder['mia']['DepartureOutput']\\n                   ,ArptConfigEncoder['mia']['ArrivalOutput']])\\n\""
            ],
            "application/vnd.google.colaboratory.intrinsic+json": {
              "type": "string"
            }
          },
          "metadata": {},
          "execution_count": 162
        }
      ]
    },
    {
      "cell_type": "code",
      "source": [
        "DFDictionary['mia']['ArptConfig'].show(truncate=False)"
      ],
      "metadata": {
        "colab": {
          "base_uri": "https://localhost:8080/"
        },
        "id": "CgWGxwops5lB",
        "outputId": "280b400f-1a23-4d3a-a75f-149b59cb29a2"
      },
      "execution_count": null,
      "outputs": [
        {
          "output_type": "stream",
          "name": "stdout",
          "text": [
            "+-------------------+-------------------+----------------+--------------+\n",
            "|timestamp          |airport_config     |DepartureRunways|ArrivalRunways|\n",
            "+-------------------+-------------------+----------------+--------------+\n",
            "|2020-11-01 00:23:00|D_8L_8R_9_A_8L_8R_9|8L              |8L            |\n",
            "|2020-11-01 00:23:00|D_8L_8R_9_A_8L_8R_9|8L              |8R            |\n",
            "|2020-11-01 00:23:00|D_8L_8R_9_A_8L_8R_9|8L              |9             |\n",
            "|2020-11-01 00:23:00|D_8L_8R_9_A_8L_8R_9|8R              |8L            |\n",
            "|2020-11-01 00:23:00|D_8L_8R_9_A_8L_8R_9|8R              |8R            |\n",
            "|2020-11-01 00:23:00|D_8L_8R_9_A_8L_8R_9|8R              |9             |\n",
            "|2020-11-01 00:23:00|D_8L_8R_9_A_8L_8R_9|9               |8L            |\n",
            "|2020-11-01 00:23:00|D_8L_8R_9_A_8L_8R_9|9               |8R            |\n",
            "|2020-11-01 00:23:00|D_8L_8R_9_A_8L_8R_9|9               |9             |\n",
            "|2020-11-01 00:27:00|D_8L_8R_9_A_8L_8R_9|8L              |8L            |\n",
            "|2020-11-01 00:27:00|D_8L_8R_9_A_8L_8R_9|8L              |8R            |\n",
            "|2020-11-01 00:27:00|D_8L_8R_9_A_8L_8R_9|8L              |9             |\n",
            "|2020-11-01 00:27:00|D_8L_8R_9_A_8L_8R_9|8R              |8L            |\n",
            "|2020-11-01 00:27:00|D_8L_8R_9_A_8L_8R_9|8R              |8R            |\n",
            "|2020-11-01 00:27:00|D_8L_8R_9_A_8L_8R_9|8R              |9             |\n",
            "|2020-11-01 00:27:00|D_8L_8R_9_A_8L_8R_9|9               |8L            |\n",
            "|2020-11-01 00:27:00|D_8L_8R_9_A_8L_8R_9|9               |8R            |\n",
            "|2020-11-01 00:27:00|D_8L_8R_9_A_8L_8R_9|9               |9             |\n",
            "|2020-11-01 00:38:00|D_8L_8R_9_A_8L_8R_9|8L              |8L            |\n",
            "|2020-11-01 00:38:00|D_8L_8R_9_A_8L_8R_9|8L              |8R            |\n",
            "+-------------------+-------------------+----------------+--------------+\n",
            "only showing top 20 rows\n",
            "\n"
          ]
        }
      ]
    },
    {
      "cell_type": "code",
      "source": [
        "OutputColsStringList = ArptConfigEncoder['mia']['ConfigOutput'].collect()\n",
        "for i in range(len(OutputColsStringList)):\n",
        "  OutputColsStringList[i] = str(OutputColsStringList[i])\n",
        "  \n",
        "ohe.setInputCols([\"airport_config\"])\n",
        "#ohe.setOutputCols([\"Output\"])\n",
        "ohe.setOutputCols(OutputColsStringList)\n",
        "model = ohe.fit(DFDictionary['mia']['ArptConfig'])\n",
        "newdf = model.transform(DFDictionary['mia']['ArptConfig'])\n",
        "newdf.show(truncated=False)\n"
      ],
      "metadata": {
        "colab": {
          "base_uri": "https://localhost:8080/",
          "height": 380
        },
        "id": "DPdbF2_Hqozl",
        "outputId": "981f9c6a-e0a9-4700-89ca-6983b3906528"
      },
      "execution_count": null,
      "outputs": [
        {
          "output_type": "error",
          "ename": "IllegalArgumentException",
          "evalue": "ignored",
          "traceback": [
            "\u001b[0;31m---------------------------------------------------------------------------\u001b[0m",
            "\u001b[0;31mIllegalArgumentException\u001b[0m                  Traceback (most recent call last)",
            "\u001b[0;32m<ipython-input-120-3a4b296e5aae>\u001b[0m in \u001b[0;36m<module>\u001b[0;34m()\u001b[0m\n\u001b[1;32m      6\u001b[0m \u001b[0mohe\u001b[0m\u001b[0;34m.\u001b[0m\u001b[0msetOutputCols\u001b[0m\u001b[0;34m(\u001b[0m\u001b[0;34m[\u001b[0m\u001b[0;34m\"Output\"\u001b[0m\u001b[0;34m]\u001b[0m\u001b[0;34m)\u001b[0m\u001b[0;34m\u001b[0m\u001b[0;34m\u001b[0m\u001b[0m\n\u001b[1;32m      7\u001b[0m \u001b[0;31m#ohe.setOutputCols(OutputColsStringList)\u001b[0m\u001b[0;34m\u001b[0m\u001b[0;34m\u001b[0m\u001b[0;34m\u001b[0m\u001b[0m\n\u001b[0;32m----> 8\u001b[0;31m \u001b[0mmodel\u001b[0m \u001b[0;34m=\u001b[0m \u001b[0mohe\u001b[0m\u001b[0;34m.\u001b[0m\u001b[0mfit\u001b[0m\u001b[0;34m(\u001b[0m\u001b[0mDFDictionary\u001b[0m\u001b[0;34m[\u001b[0m\u001b[0;34m'mia'\u001b[0m\u001b[0;34m]\u001b[0m\u001b[0;34m[\u001b[0m\u001b[0;34m'ArptConfig'\u001b[0m\u001b[0;34m]\u001b[0m\u001b[0;34m)\u001b[0m\u001b[0;34m\u001b[0m\u001b[0;34m\u001b[0m\u001b[0m\n\u001b[0m\u001b[1;32m      9\u001b[0m \u001b[0mnewdf\u001b[0m \u001b[0;34m=\u001b[0m \u001b[0mmodel\u001b[0m\u001b[0;34m.\u001b[0m\u001b[0mtransform\u001b[0m\u001b[0;34m(\u001b[0m\u001b[0mDFDictionary\u001b[0m\u001b[0;34m[\u001b[0m\u001b[0;34m'mia'\u001b[0m\u001b[0;34m]\u001b[0m\u001b[0;34m[\u001b[0m\u001b[0;34m'ArptConfig'\u001b[0m\u001b[0;34m]\u001b[0m\u001b[0;34m)\u001b[0m\u001b[0;34m\u001b[0m\u001b[0;34m\u001b[0m\u001b[0m\n\u001b[1;32m     10\u001b[0m \u001b[0mnewdf\u001b[0m\u001b[0;34m.\u001b[0m\u001b[0mshow\u001b[0m\u001b[0;34m(\u001b[0m\u001b[0mtruncated\u001b[0m\u001b[0;34m=\u001b[0m\u001b[0;32mFalse\u001b[0m\u001b[0;34m)\u001b[0m\u001b[0;34m\u001b[0m\u001b[0;34m\u001b[0m\u001b[0m\n",
            "\u001b[0;32m/usr/local/lib/python3.7/dist-packages/pyspark/ml/base.py\u001b[0m in \u001b[0;36mfit\u001b[0;34m(self, dataset, params)\u001b[0m\n\u001b[1;32m    159\u001b[0m                 \u001b[0;32mreturn\u001b[0m \u001b[0mself\u001b[0m\u001b[0;34m.\u001b[0m\u001b[0mcopy\u001b[0m\u001b[0;34m(\u001b[0m\u001b[0mparams\u001b[0m\u001b[0;34m)\u001b[0m\u001b[0;34m.\u001b[0m\u001b[0m_fit\u001b[0m\u001b[0;34m(\u001b[0m\u001b[0mdataset\u001b[0m\u001b[0;34m)\u001b[0m\u001b[0;34m\u001b[0m\u001b[0;34m\u001b[0m\u001b[0m\n\u001b[1;32m    160\u001b[0m             \u001b[0;32melse\u001b[0m\u001b[0;34m:\u001b[0m\u001b[0;34m\u001b[0m\u001b[0;34m\u001b[0m\u001b[0m\n\u001b[0;32m--> 161\u001b[0;31m                 \u001b[0;32mreturn\u001b[0m \u001b[0mself\u001b[0m\u001b[0;34m.\u001b[0m\u001b[0m_fit\u001b[0m\u001b[0;34m(\u001b[0m\u001b[0mdataset\u001b[0m\u001b[0;34m)\u001b[0m\u001b[0;34m\u001b[0m\u001b[0;34m\u001b[0m\u001b[0m\n\u001b[0m\u001b[1;32m    162\u001b[0m         \u001b[0;32melse\u001b[0m\u001b[0;34m:\u001b[0m\u001b[0;34m\u001b[0m\u001b[0;34m\u001b[0m\u001b[0m\n\u001b[1;32m    163\u001b[0m             raise TypeError(\"Params must be either a param map or a list/tuple of param maps, \"\n",
            "\u001b[0;32m/usr/local/lib/python3.7/dist-packages/pyspark/ml/wrapper.py\u001b[0m in \u001b[0;36m_fit\u001b[0;34m(self, dataset)\u001b[0m\n\u001b[1;32m    333\u001b[0m \u001b[0;34m\u001b[0m\u001b[0m\n\u001b[1;32m    334\u001b[0m     \u001b[0;32mdef\u001b[0m \u001b[0m_fit\u001b[0m\u001b[0;34m(\u001b[0m\u001b[0mself\u001b[0m\u001b[0;34m,\u001b[0m \u001b[0mdataset\u001b[0m\u001b[0;34m)\u001b[0m\u001b[0;34m:\u001b[0m\u001b[0;34m\u001b[0m\u001b[0;34m\u001b[0m\u001b[0m\n\u001b[0;32m--> 335\u001b[0;31m         \u001b[0mjava_model\u001b[0m \u001b[0;34m=\u001b[0m \u001b[0mself\u001b[0m\u001b[0;34m.\u001b[0m\u001b[0m_fit_java\u001b[0m\u001b[0;34m(\u001b[0m\u001b[0mdataset\u001b[0m\u001b[0;34m)\u001b[0m\u001b[0;34m\u001b[0m\u001b[0;34m\u001b[0m\u001b[0m\n\u001b[0m\u001b[1;32m    336\u001b[0m         \u001b[0mmodel\u001b[0m \u001b[0;34m=\u001b[0m \u001b[0mself\u001b[0m\u001b[0;34m.\u001b[0m\u001b[0m_create_model\u001b[0m\u001b[0;34m(\u001b[0m\u001b[0mjava_model\u001b[0m\u001b[0;34m)\u001b[0m\u001b[0;34m\u001b[0m\u001b[0;34m\u001b[0m\u001b[0m\n\u001b[1;32m    337\u001b[0m         \u001b[0;32mreturn\u001b[0m \u001b[0mself\u001b[0m\u001b[0;34m.\u001b[0m\u001b[0m_copyValues\u001b[0m\u001b[0;34m(\u001b[0m\u001b[0mmodel\u001b[0m\u001b[0;34m)\u001b[0m\u001b[0;34m\u001b[0m\u001b[0;34m\u001b[0m\u001b[0m\n",
            "\u001b[0;32m/usr/local/lib/python3.7/dist-packages/pyspark/ml/wrapper.py\u001b[0m in \u001b[0;36m_fit_java\u001b[0;34m(self, dataset)\u001b[0m\n\u001b[1;32m    330\u001b[0m         \"\"\"\n\u001b[1;32m    331\u001b[0m         \u001b[0mself\u001b[0m\u001b[0;34m.\u001b[0m\u001b[0m_transfer_params_to_java\u001b[0m\u001b[0;34m(\u001b[0m\u001b[0;34m)\u001b[0m\u001b[0;34m\u001b[0m\u001b[0;34m\u001b[0m\u001b[0m\n\u001b[0;32m--> 332\u001b[0;31m         \u001b[0;32mreturn\u001b[0m \u001b[0mself\u001b[0m\u001b[0;34m.\u001b[0m\u001b[0m_java_obj\u001b[0m\u001b[0;34m.\u001b[0m\u001b[0mfit\u001b[0m\u001b[0;34m(\u001b[0m\u001b[0mdataset\u001b[0m\u001b[0;34m.\u001b[0m\u001b[0m_jdf\u001b[0m\u001b[0;34m)\u001b[0m\u001b[0;34m\u001b[0m\u001b[0;34m\u001b[0m\u001b[0m\n\u001b[0m\u001b[1;32m    333\u001b[0m \u001b[0;34m\u001b[0m\u001b[0m\n\u001b[1;32m    334\u001b[0m     \u001b[0;32mdef\u001b[0m \u001b[0m_fit\u001b[0m\u001b[0;34m(\u001b[0m\u001b[0mself\u001b[0m\u001b[0;34m,\u001b[0m \u001b[0mdataset\u001b[0m\u001b[0;34m)\u001b[0m\u001b[0;34m:\u001b[0m\u001b[0;34m\u001b[0m\u001b[0;34m\u001b[0m\u001b[0m\n",
            "\u001b[0;32m/usr/local/lib/python3.7/dist-packages/py4j/java_gateway.py\u001b[0m in \u001b[0;36m__call__\u001b[0;34m(self, *args)\u001b[0m\n\u001b[1;32m   1320\u001b[0m         \u001b[0manswer\u001b[0m \u001b[0;34m=\u001b[0m \u001b[0mself\u001b[0m\u001b[0;34m.\u001b[0m\u001b[0mgateway_client\u001b[0m\u001b[0;34m.\u001b[0m\u001b[0msend_command\u001b[0m\u001b[0;34m(\u001b[0m\u001b[0mcommand\u001b[0m\u001b[0;34m)\u001b[0m\u001b[0;34m\u001b[0m\u001b[0;34m\u001b[0m\u001b[0m\n\u001b[1;32m   1321\u001b[0m         return_value = get_return_value(\n\u001b[0;32m-> 1322\u001b[0;31m             answer, self.gateway_client, self.target_id, self.name)\n\u001b[0m\u001b[1;32m   1323\u001b[0m \u001b[0;34m\u001b[0m\u001b[0m\n\u001b[1;32m   1324\u001b[0m         \u001b[0;32mfor\u001b[0m \u001b[0mtemp_arg\u001b[0m \u001b[0;32min\u001b[0m \u001b[0mtemp_args\u001b[0m\u001b[0;34m:\u001b[0m\u001b[0;34m\u001b[0m\u001b[0;34m\u001b[0m\u001b[0m\n",
            "\u001b[0;32m/usr/local/lib/python3.7/dist-packages/pyspark/sql/utils.py\u001b[0m in \u001b[0;36mdeco\u001b[0;34m(*a, **kw)\u001b[0m\n\u001b[1;32m    115\u001b[0m                 \u001b[0;31m# Hide where the exception came from that shows a non-Pythonic\u001b[0m\u001b[0;34m\u001b[0m\u001b[0;34m\u001b[0m\u001b[0;34m\u001b[0m\u001b[0m\n\u001b[1;32m    116\u001b[0m                 \u001b[0;31m# JVM exception message.\u001b[0m\u001b[0;34m\u001b[0m\u001b[0;34m\u001b[0m\u001b[0;34m\u001b[0m\u001b[0m\n\u001b[0;32m--> 117\u001b[0;31m                 \u001b[0;32mraise\u001b[0m \u001b[0mconverted\u001b[0m \u001b[0;32mfrom\u001b[0m \u001b[0;32mNone\u001b[0m\u001b[0;34m\u001b[0m\u001b[0;34m\u001b[0m\u001b[0m\n\u001b[0m\u001b[1;32m    118\u001b[0m             \u001b[0;32melse\u001b[0m\u001b[0;34m:\u001b[0m\u001b[0;34m\u001b[0m\u001b[0;34m\u001b[0m\u001b[0m\n\u001b[1;32m    119\u001b[0m                 \u001b[0;32mraise\u001b[0m\u001b[0;34m\u001b[0m\u001b[0;34m\u001b[0m\u001b[0m\n",
            "\u001b[0;31mIllegalArgumentException\u001b[0m: requirement failed: Column airport_config must be of type numeric but was actually of type string."
          ]
        }
      ]
    },
    {
      "cell_type": "markdown",
      "source": [
        "[OPTIONAL] Used to make output for Nitya"
      ],
      "metadata": {
        "id": "XfUy1B-e3Sx9"
      }
    },
    {
      "cell_type": "code",
      "source": [
        "filpath = \"/content/drive/Shareddrives/CIS3200GroupProject/NityaCorrectedDF/\"\n",
        "\n",
        "PdDFLampDictionary = {}\n",
        "for AirportCode in DFDictionary:\n",
        "  #DFDictionary[AirportCode] = {}\n",
        "  #for FileString in arrayFileString:\n",
        "  filpath += (AirportCode + \"Lamp.csv\")\n",
        "  PdDFLampDictionary[AirportCode] = DFDictionary[AirportCode][\"Lamp\"].toPandas()\n",
        "  print(AirportCode)\n",
        "  PdDFLampDictionary[AirportCode].to_csv(filpath)"
      ],
      "metadata": {
        "id": "VzBaHAwuki1F"
      },
      "execution_count": null,
      "outputs": []
    },
    {
      "cell_type": "markdown",
      "source": [
        "[WORK IN PROGRESS]\n",
        "The next few code blocks are for testing unformed ideas"
      ],
      "metadata": {
        "id": "4AHF3sjimEpw"
      }
    },
    {
      "cell_type": "code",
      "source": [
        "thing = (\n",
        "    DFDictionary['mia']['ArptConfig'].groupby(window(\"timestamp\", \"15 minutes\")).agg(avg(\"\"))\n",
        ")\n",
        "thing.collect()"
      ],
      "metadata": {
        "id": "PLnh9bTfZXUP"
      },
      "execution_count": null,
      "outputs": []
    },
    {
      "cell_type": "code",
      "source": [
        "#DFDictionary[airport][fileshort].filter(col(\"timestamp\").isNull()).show()\n",
        "\"\"\"\n",
        "Normalize Columns\n",
        "withColumn(\"lightning_prob\", when(DFDictionary[airport][fileshort].\\\n",
        "                                  lightning_prob == None, \"N\").\\\n",
        "            otherwise(DFDictionary[airport][fileshort].lightning_prob))\n",
        "\"\"\"\n",
        "splitmap = DFDictionary['atl']['Lamp'].na.drop().rdd.map(lambda r: (r.wind_direction,1))\n",
        "splitmap = splitmap.reduceByKey(lambda a,b: a+b)\n",
        "splitmap.sortBy(lambda x: -x[0]).collect()\n",
        "\n",
        "#DFDictionary['mia']['Lamp'].rdd.collect()\n",
        "#splitmap = DFDictionary['mia']['Lamp'].rdd.map(lambda r: LightningNoneCheck(r.lightning_prob))\n",
        "\n",
        "\n",
        "#Lamp.lightning_prob categorized by L N none M H\n",
        "#Lamp.cloud categorized by BK CL Few OV SC"
      ],
      "metadata": {
        "id": "g5n4apDgKqht"
      },
      "execution_count": null,
      "outputs": []
    },
    {
      "cell_type": "code",
      "source": [
        "splitmap = DFDictionary['ord']['ArptConfig'].na.drop().rdd.map(lambda r: (r.airport_config,1))\n",
        "splitmap = splitmap.reduceByKey(lambda a,b: a+b)\n",
        "splitmap.sortBy(lambda x: -x[1]).collect()"
      ],
      "metadata": {
        "id": "1Z14PrUuMI0L"
      },
      "execution_count": null,
      "outputs": []
    },
    {
      "cell_type": "code",
      "source": [
        ""
      ],
      "metadata": {
        "id": "nWgn0PfBY4KX"
      },
      "execution_count": null,
      "outputs": []
    },
    {
      "cell_type": "code",
      "source": [
        "from pathlib import Path\n",
        "from typing import Sequence, Tuple\n",
        "\n",
        "import matplotlib as mpl\n",
        "import matplotlib.pyplot as plt\n",
        "import numpy as np\n",
        "import pandas as pd\n",
        "import seaborn as sns"
      ],
      "metadata": {
        "id": "qlK6wFkmb45Y"
      },
      "execution_count": null,
      "outputs": []
    },
    {
      "cell_type": "markdown",
      "source": [
        "Make Pandas Data Frames"
      ],
      "metadata": {
        "id": "RwLx0v73mgaI"
      }
    },
    {
      "cell_type": "code",
      "source": [
        "PdDFACDictionary = {}\n",
        "for AirportCode in DFDictionary:\n",
        "  PdDFACDictionary[AirportCode] = DFDictionary[AirportCode][\"ArptConfig\"].toPandas()\n",
        "  print(\"Completed Converting rdd: \\n\\t\" + AirportCode)"
      ],
      "metadata": {
        "colab": {
          "base_uri": "https://localhost:8080/"
        },
        "id": "Z8ofNqGBWj-g",
        "outputId": "1e8bbd12-ba9d-4495-84b2-e93469e7b701"
      },
      "execution_count": null,
      "outputs": [
        {
          "output_type": "stream",
          "name": "stdout",
          "text": [
            "atl\n",
            "clt\n",
            "den\n",
            "dfw\n",
            "jfk\n",
            "mem\n",
            "mia\n",
            "ord\n",
            "phx\n",
            "sea\n"
          ]
        }
      ]
    },
    {
      "cell_type": "code",
      "source": [
        "from __future__ import print_function\n",
        "import pandas as pd\n",
        "import numpy as np\n",
        "%matplotlib inline\n",
        "from matplotlib import pyplot as plt\n",
        "import seaborn as sns\n",
        "from datetime import datetime\n",
        "from plotnine import ggplot, aes, geom_freqpoly, xlim\n",
        "\n",
        "\n",
        "for (AP1, AC), (AP2, WC) in zip(PdDFACDictionary.items(), PdDFLampDictionary.items()):\n",
        "  # Set figure size for the notebook\n",
        "  plt.rcParams[\"figure.figsize\"]=15,9\n",
        "  sns.set(style=\"whitegrid\")\n",
        "  first_monthAC = AC.loc[(AC['timestamp'] >='2020-11-01') &\n",
        "                             (AC['timestamp'] <='2020-12-01')]\n",
        "                             # Without transparency\n",
        "  sns.kdeplot(data=first_monthAC, x=\"timestamp\", hue=\"airport_config\", fill=True, common_norm=False, alpha=0.4, multiple='stack')\n",
        "  # plt.title('{} First Month Airport Config'.format(AP1))\n",
        "  fig, ax = plt.subplots()\n",
        "  fig.autofmt_xdate()\n",
        "  sns.set(xlim = (datetime.date(2020, 11, 1), datetime.date(2020, 12, 1)))\n",
        "  plt.title('{} First Month Airport Config'.format(AP1))\n",
        "  plt.show()\n",
        "  first_monthWC = WC.loc[(WC['forecast_timestamp'] >='2020-11-01') &\n",
        "                             (WC['forecast_timestamp'] <='2020-12-01')]\n",
        "  plt.scatter(first_monthWC['forecast_timestamp'], \n",
        "           first_monthWC['wind_speed'], \n",
        "           c = first_monthWC['wind_direction'],\n",
        "           cmap = 'magma')\n",
        "  plt.colorbar()\n",
        "  plt.title('{} First Month Wind Direction'.format(AP2))\n",
        "  plt.show()\n",
        "  plt.figure(figsize=(15, 9)) \n",
        "  # first_month_shalf = WC.loc[(WC['forecast_timestamp'] >='2020-11-02 21:30:00') &\n",
        "  #                            (WC['forecast_timestamp'] <='2020-11-02 23:30:00')]\n",
        "  # plt.plot(first_month_shalf['forecast_timestamp'], first_month_shalf['wind_direction'], 'o', color = WC['timestamp'])\n",
        "  # plt.title('{} Second Half of First Month Wind Direction'.format(AP))\n",
        "  # plt.show()\n",
        "  # plt.figure(figsize=(15, 9))\n",
        "\n",
        "\n",
        "\n",
        "# phx_WC1 = phx_WC[phx_WC['timestamp'] <'2021-01-01']\n",
        "# plt.figure(figsize=(15, 9))\n",
        "# plt.plot(phx_WC1['timestamp'], phx_WC1['wind_direction'], kind = \"point\", color = 'b')\n",
        "# plt.show()\n",
        "# plt.figure(figsize=(15, 9))\n",
        "\n",
        "# plt.plot(phx_WC1['timestamp'], phx_WC1['wind_speed'])\n",
        "# plt.show()\n",
        "# plt.figure(figsize=(15, 9))\n",
        "\n",
        "# plt.plot(phx_WC1['timestamp'], phx_WC1['wind_gust'])\n",
        "# plt.show()"
      ],
      "metadata": {
        "id": "T-6efPYVgKip",
        "colab": {
          "base_uri": "https://localhost:8080/",
          "height": 235
        },
        "outputId": "e39f9c35-50bd-4c13-c39e-3a16eb78e348"
      },
      "execution_count": null,
      "outputs": [
        {
          "output_type": "error",
          "ename": "NameError",
          "evalue": "ignored",
          "traceback": [
            "\u001b[0;31m---------------------------------------------------------------------------\u001b[0m",
            "\u001b[0;31mNameError\u001b[0m                                 Traceback (most recent call last)",
            "\u001b[0;32m<ipython-input-1-e923b5ca77d9>\u001b[0m in \u001b[0;36m<module>\u001b[0;34m()\u001b[0m\n\u001b[1;32m      9\u001b[0m \u001b[0;34m\u001b[0m\u001b[0m\n\u001b[1;32m     10\u001b[0m \u001b[0;34m\u001b[0m\u001b[0m\n\u001b[0;32m---> 11\u001b[0;31m \u001b[0;32mfor\u001b[0m \u001b[0;34m(\u001b[0m\u001b[0mAP1\u001b[0m\u001b[0;34m,\u001b[0m \u001b[0mAC\u001b[0m\u001b[0;34m)\u001b[0m\u001b[0;34m,\u001b[0m \u001b[0;34m(\u001b[0m\u001b[0mAP2\u001b[0m\u001b[0;34m,\u001b[0m \u001b[0mWC\u001b[0m\u001b[0;34m)\u001b[0m \u001b[0;32min\u001b[0m \u001b[0mzip\u001b[0m\u001b[0;34m(\u001b[0m\u001b[0mPdDFACDictionary\u001b[0m\u001b[0;34m.\u001b[0m\u001b[0mitems\u001b[0m\u001b[0;34m(\u001b[0m\u001b[0;34m)\u001b[0m\u001b[0;34m,\u001b[0m \u001b[0mPdDFLampDictionary\u001b[0m\u001b[0;34m.\u001b[0m\u001b[0mitems\u001b[0m\u001b[0;34m(\u001b[0m\u001b[0;34m)\u001b[0m\u001b[0;34m)\u001b[0m\u001b[0;34m:\u001b[0m\u001b[0;34m\u001b[0m\u001b[0;34m\u001b[0m\u001b[0m\n\u001b[0m\u001b[1;32m     12\u001b[0m   \u001b[0;31m# Set figure size for the notebook\u001b[0m\u001b[0;34m\u001b[0m\u001b[0;34m\u001b[0m\u001b[0;34m\u001b[0m\u001b[0m\n\u001b[1;32m     13\u001b[0m   \u001b[0mplt\u001b[0m\u001b[0;34m.\u001b[0m\u001b[0mrcParams\u001b[0m\u001b[0;34m[\u001b[0m\u001b[0;34m\"figure.figsize\"\u001b[0m\u001b[0;34m]\u001b[0m\u001b[0;34m=\u001b[0m\u001b[0;36m15\u001b[0m\u001b[0;34m,\u001b[0m\u001b[0;36m9\u001b[0m\u001b[0;34m\u001b[0m\u001b[0;34m\u001b[0m\u001b[0m\n",
            "\u001b[0;31mNameError\u001b[0m: name 'PdDFACDictionary' is not defined"
          ]
        }
      ]
    },
    {
      "cell_type": "markdown",
      "source": [
        "**NASA AIRPORT CONFIGURATION BENCHMARK RECONSTRUCTION**"
      ],
      "metadata": {
        "id": "Rkia2nAwYneY"
      }
    },
    {
      "cell_type": "markdown",
      "source": [
        "# **READ THE TRAINING LABELS**"
      ],
      "metadata": {
        "id": "bhY4IhNGa5uo"
      }
    },
    {
      "cell_type": "code",
      "source": [
        "# open_train_labels = pd.read_csv(\n",
        "#     DATA_PATH / \"open_train_labels.csv.bz2\", parse_dates=[\"timestamp\"]\n",
        "# )\n",
        "# open_train_labels.shape"
      ],
      "metadata": {
        "id": "Q7YAA5tybpxJ"
      },
      "execution_count": null,
      "outputs": []
    },
    {
      "cell_type": "code",
      "source": [
        "# open_train_labels.head()"
      ],
      "metadata": {
        "id": "dP8Pweb1cWEI"
      },
      "execution_count": null,
      "outputs": []
    },
    {
      "cell_type": "markdown",
      "source": [
        "# **GET A SAMPLE FRAME**"
      ],
      "metadata": {
        "id": "VD-mFhr6dpmg"
      }
    },
    {
      "cell_type": "code",
      "source": [
        "# sample_frame_groups = open_train_labels.groupby([\"airport\", \"timestamp\", \"lookahead\"], sort=False)"
      ],
      "metadata": {
        "id": "IOzwIxr-dqOI"
      },
      "execution_count": null,
      "outputs": []
    }
  ],
  "metadata": {
    "colab": {
      "collapsed_sections": [
        "bhY4IhNGa5uo",
        "VD-mFhr6dpmg"
      ],
      "name": "PredictRunways",
      "provenance": [],
      "include_colab_link": true
    },
    "kernelspec": {
      "display_name": "Python 3",
      "name": "python3"
    },
    "language_info": {
      "name": "python"
    }
  },
  "nbformat": 4,
  "nbformat_minor": 0
}